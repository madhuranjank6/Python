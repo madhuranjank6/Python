{
 "cells": [
  {
   "cell_type": "markdown",
   "metadata": {},
   "source": [
    "# Module 4: Advanced Functions Assignments\n",
    "## Lesson 4.1: Defining Functions\n",
    "\n",
    "\n",
    "\n",
    "\n",
    "\n",
    "### Assignment 5: Function that Returns a Function\n",
    "\n",
    "Define a function that returns another function. The returned function should take an integer and return its square. Test the returned function with different inputs.\n",
    "\n",
    "### Assignment 6: Function with Decorators\n",
    "\n",
    "Define a function that calculates the time taken to execute another function. Apply this decorator to a function that performs a complex calculation. Test the decorated function with different inputs.\n",
    "\n",
    "### Assignment 7: Higher-Order Function for Filtering and Mapping\n",
    "\n",
    "Define a higher-order function that takes two functions, a filter function and a map function, along with a list of integers. The higher-order function should first filter the integers using the filter function and then apply the map function to the filtered integers. Test with different filter and map functions.\n",
    "\n",
    "### Assignment 8: Function Composition\n",
    "\n",
    "Define a function that composes two functions, f and g, such that the result is f(g(x)). Test with different functions f and g.\n",
    "\n",
    "### Assignment 9: Partial Function Application\n",
    "\n",
    "Use the functools.partial function to create a new function that multiplies its input by 2. Test the new function with different inputs.\n",
    "\n",
    "### Assignment 10: Function with Error Handling\n",
    "\n",
    "Define a function that takes a list of integers and returns their average. The function should handle any errors that occur (e.g., empty list) and return None in such cases. Test with different inputs.\n",
    "\n",
    "### Assignment 11: Function with Generators\n",
    "\n",
    "Define a function that generates an infinite sequence of Fibonacci numbers. Test by printing the first 10 numbers in the sequence.\n",
    "\n",
    "### Assignment 12: Currying\n",
    "\n",
    "Define a curried function that takes three arguments, one at a time, and returns their product. Test the function by providing arguments one at a time.\n",
    "\n",
    "### Assignment 13: Function with Context Manager\n",
    "\n",
    "Define a function that uses a context manager to write a list of integers to a file. The function should handle any errors that occur during file operations. Test with different lists.\n",
    "\n",
    "### Assignment 14: Function with Multiple Return Types\n",
    "\n",
    "Define a function that takes a list of mixed data types (integers, strings, and floats) and returns three lists: one containing all the integers, one containing all the strings, and one containing all the floats. Test with different inputs.\n",
    "\n",
    "### Assignment 15: Function with State\n",
    "\n",
    "Define a function that maintains state between calls using a mutable default argument. The function should keep track of how many times it has been called. Test by calling the function multiple times."
   ]
  },
  {
   "cell_type": "markdown",
   "id": "f80d2383",
   "metadata": {},
   "source": [
    "### Assignment 1: Fibonacci Sequence with Memoization\n",
    "\n",
    "Define a recursive function to calculate the nth Fibonacci number using memoization. Test the function with different inputs."
   ]
  },
  {
   "cell_type": "code",
   "execution_count": 1,
   "metadata": {},
   "outputs": [
    {
     "name": "stdout",
     "output_type": "stream",
     "text": [
      "{0: 0, 1: 1, 5: 5, 10: 55, 20: 6765, 30: 832040}\n"
     ]
    }
   ],
   "source": [
    "# Define a recursive function to calculate the nth Fibonacci number using memoization.\n",
    "def fibonacci(n, memo={}):\n",
    "    if n in memo:  # Check if the value is already cached\n",
    "        return memo[n]\n",
    "    if n <= 1:  # Base case for Fibonacci\n",
    "        return n\n",
    "    # Recursively calculate the nth Fibonacci number\n",
    "    memo[n] = fibonacci(n - 1, memo) + fibonacci(n - 2, memo)\n",
    "    return memo[n]\n",
    "\n",
    "# Testing the function with different inputs\n",
    "test_values = [0, 1, 5, 10, 20, 30]\n",
    "\n",
    "# Calculate Fibonacci for each test value\n",
    "fib_results = {n: fibonacci(n) for n in test_values}\n",
    "print(fib_results)\n"
   ]
  },
  {
   "cell_type": "markdown",
   "id": "2c2aaa6a",
   "metadata": {},
   "source": [
    "### Assignment 2: Function with Nested Default Arguments\n",
    "\n",
    "Define a function that takes two arguments, a and b, where b is a dictionary with a default value of an empty dictionary. The function should add a new key-value pair to the dictionary and return it. Test the function with different inputs."
   ]
  },
  {
   "cell_type": "code",
   "execution_count": 2,
   "id": "eef1f34d",
   "metadata": {},
   "outputs": [
    {
     "name": "stdout",
     "output_type": "stream",
     "text": [
      "{'key1': 'Value for key1'}\n",
      "{'existing_key': 'existing_value', 'key2': 'Value for key2', 'key3': 'Value for key3'}\n",
      "{'existing_key': 'existing_value', 'key2': 'Value for key2', 'key3': 'Value for key3'}\n"
     ]
    }
   ],
   "source": [
    "# Define the function\n",
    "def add_to_dict(a, b=None):\n",
    "    if b is None:\n",
    "        b = {}\n",
    "    b[a] = f\"Value for {a}\"\n",
    "    return b\n",
    "\n",
    "# Test the function with different inputs\n",
    "test1 = add_to_dict('key1')\n",
    "test2 = add_to_dict('key2', {'existing_key': 'existing_value'})\n",
    "test3 = add_to_dict('key3', test2)\n",
    "\n",
    "print(test1)\n",
    "print(test2)\n",
    "print(test3)\n"
   ]
  },
  {
   "cell_type": "markdown",
   "id": "64d43129",
   "metadata": {},
   "source": [
    "### Assignment 3: Function with Variable Keyword Arguments\n",
    "\n",
    "Define a function that takes a variable number of keyword arguments and returns a dictionary containing only those key-value pairs where the value is an integer. Test the function with different inputs."
   ]
  },
  {
   "cell_type": "code",
   "execution_count": 3,
   "id": "7007c4e1",
   "metadata": {},
   "outputs": [
    {
     "name": "stdout",
     "output_type": "stream",
     "text": [
      "{'a': 1, 'd': 7}\n",
      "{'x': 10, 'z': -5, 'valid': True}\n",
      "{}\n"
     ]
    }
   ],
   "source": [
    "def filter_integers(**kwargs):\n",
    "    \"\"\"Return a dictionary with only integer values from keyword arguments.\"\"\"\n",
    "    return {k: v for k, v in kwargs.items() if isinstance(v, int)}\n",
    "\n",
    "# Testing the function with different inputs\n",
    "test_1 = filter_integers(a=1, b=\"hello\", c=3.14, d=7)\n",
    "test_2 = filter_integers(x=10, y=20.5, z=-5, name=\"John\", valid=True)\n",
    "test_3 = filter_integers()\n",
    "\n",
    "print(test_1)\n",
    "print(test_2)\n",
    "print(test_3)\n"
   ]
  },
  {
   "cell_type": "markdown",
   "id": "16b2dae7",
   "metadata": {},
   "source": [
    "### Assignment 4: Function with Callback\n",
    "\n",
    "Define a function that takes another function as a callback and a list of integers. The function should apply the callback to each integer in the list and return a new list with the results. Test with different callback functions."
   ]
  },
  {
   "cell_type": "code",
   "execution_count": 4,
   "id": "2930d921",
   "metadata": {},
   "outputs": [
    {
     "name": "stdout",
     "output_type": "stream",
     "text": [
      "[1, 4, 9, 16]\n",
      "[20, 40, 60]\n",
      "[6, 16, 26]\n"
     ]
    }
   ],
   "source": [
    "def apply_callback(callback, int_list):\n",
    "    \"\"\"Applies the callback function to each integer in the list.\"\"\"\n",
    "    return [callback(i) for i in int_list]\n",
    "\n",
    "# Example callback functions\n",
    "def square(n):\n",
    "    return n * n\n",
    "\n",
    "def double(n):\n",
    "    return n * 2\n",
    "\n",
    "def increment(n):\n",
    "    return n + 1\n",
    "\n",
    "# Testing the function with different callback functions\n",
    "test_1 = apply_callback(square, [1, 2, 3, 4])\n",
    "test_2 = apply_callback(double, [10, 20, 30])\n",
    "test_3 = apply_callback(increment, [5, 15, 25])\n",
    "\n",
    "print(test_1)  # [1, 4, 9, 16]\n",
    "print(test_2)  # [20, 40, 60]\n",
    "print(test_3)  # [6, 16, 26]\n"
   ]
  },
  {
   "cell_type": "code",
   "execution_count": null,
   "id": "2b3e1611",
   "metadata": {},
   "outputs": [],
   "source": []
  }
 ],
 "metadata": {
  "kernelspec": {
   "display_name": ".venv",
   "language": "python",
   "name": "python3"
  },
  "language_info": {
   "codemirror_mode": {
    "name": "ipython",
    "version": 3
   },
   "file_extension": ".py",
   "mimetype": "text/x-python",
   "name": "python",
   "nbconvert_exporter": "python",
   "pygments_lexer": "ipython3",
   "version": "3.10.12"
  }
 },
 "nbformat": 4,
 "nbformat_minor": 5
}
