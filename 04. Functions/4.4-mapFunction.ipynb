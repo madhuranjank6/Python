{
 "cells": [
  {
   "cell_type": "markdown",
   "metadata": {},
   "source": [
    "## map() function in Python\n",
    "\n",
    "The map function applies a given function to all the items in an input list (or any other iterable) and returns a map object (an iterator). This is particularly useful for transforming data in a list comprehensively."
   ]
  },
  {
   "cell_type": "code",
   "execution_count": 1,
   "metadata": {},
   "outputs": [
    {
     "name": "stdout",
     "output_type": "stream",
     "text": [
      "25\n",
      "100\n"
     ]
    }
   ],
   "source": [
    "def square(x):\n",
    "    return x ** 2\n",
    "\n",
    "print(square(5))\n",
    "print(square(10))"
   ]
  },
  {
   "cell_type": "code",
   "execution_count": 2,
   "metadata": {},
   "outputs": [
    {
     "name": "stdout",
     "output_type": "stream",
     "text": [
      "[1, 4, 9, 16, 25, 36, 49, 64, 81]\n"
     ]
    }
   ],
   "source": [
    "# Want to apply the square funtion to all the elements of the list\n",
    "numbers = [1,2,3,4,5,6,7,8,9]\n",
    "\n",
    "#map() function takes two arguments first it the name of the function and second is the iterable\n",
    "output = list(map(square,numbers))\n",
    "print(output)"
   ]
  },
  {
   "cell_type": "code",
   "execution_count": 3,
   "metadata": {},
   "outputs": [
    {
     "name": "stdout",
     "output_type": "stream",
     "text": [
      "[144, 169, 196, 225, 256, 289, 324, 361, 400]\n"
     ]
    }
   ],
   "source": [
    "## Using lambda function with map\n",
    "numbers = [12,13,14,15,16,17,18,19,20]\n",
    "\n",
    "squares = list(map(lambda x:x**2,numbers))\n",
    "print(squares)"
   ]
  },
  {
   "cell_type": "code",
   "execution_count": 4,
   "metadata": {},
   "outputs": [
    {
     "name": "stdout",
     "output_type": "stream",
     "text": [
      "[5, 7, 9]\n"
     ]
    }
   ],
   "source": [
    "## Map the multiple iterables\n",
    "nums1 = [1,2,3]\n",
    "nums2 = [4,5,6]\n",
    "\n",
    "# i want my final output like [5,7,9]\n",
    "\n",
    "added_numbers = list(map(lambda x,y:x+y,nums1,nums2))\n",
    "print(added_numbers)"
   ]
  },
  {
   "cell_type": "code",
   "execution_count": 5,
   "metadata": {},
   "outputs": [
    {
     "name": "stdout",
     "output_type": "stream",
     "text": [
      "[1, 2, 3, 4, 5, 6]\n"
     ]
    }
   ],
   "source": [
    "## map() to convert a list of strs to integers\n",
    "\n",
    "str_numbers = ['1','2','3','4','5','6']\n",
    "\n",
    "int_numbers = list(map(int,str_numbers))\n",
    "print(int_numbers)"
   ]
  },
  {
   "cell_type": "code",
   "execution_count": 6,
   "metadata": {},
   "outputs": [
    {
     "name": "stdout",
     "output_type": "stream",
     "text": [
      "['APPLE', 'BANANA', 'ORANGE']\n"
     ]
    }
   ],
   "source": [
    "## applying the inbuilt functions using map\n",
    "\n",
    "words = ['apple','banana','orange']\n",
    "\n",
    "upper_words = list(map(str.upper,words))\n",
    "print(upper_words)"
   ]
  },
  {
   "cell_type": "code",
   "execution_count": 7,
   "metadata": {},
   "outputs": [
    {
     "name": "stdout",
     "output_type": "stream",
     "text": [
      "['Madhu', 'Ranjan', 'Madhuranjan']\n"
     ]
    }
   ],
   "source": [
    "def get_name(person):\n",
    "    return person['name']\n",
    "\n",
    "peoples = [\n",
    "    {'name':\"Madhu\",'age':20},\n",
    "    {'name':\"Ranjan\",'age':23},\n",
    "    {'name':\"Madhuranjan\",'age':23}\n",
    "]\n",
    "\n",
    "peoples_names = list(map(get_name,peoples))\n",
    "print(peoples_names)"
   ]
  },
  {
   "cell_type": "markdown",
   "metadata": {},
   "source": [
    "## Conclusion\n",
    "\n",
    "The map function is a powerful tool for applying transformations to iterable data structures. It can be used with regular functions, lambda functions, and even multipe iterables, providing a versatile approach to data processing in python. By understanding and utilizing the map(), we can write efficient and readable codes."
   ]
  },
  {
   "cell_type": "code",
   "execution_count": null,
   "metadata": {},
   "outputs": [],
   "source": []
  }
 ],
 "metadata": {
  "kernelspec": {
   "display_name": ".venv",
   "language": "python",
   "name": "python3"
  },
  "language_info": {
   "codemirror_mode": {
    "name": "ipython",
    "version": 3
   },
   "file_extension": ".py",
   "mimetype": "text/x-python",
   "name": "python",
   "nbconvert_exporter": "python",
   "pygments_lexer": "ipython3",
   "version": "3.10.12"
  }
 },
 "nbformat": 4,
 "nbformat_minor": 2
}
