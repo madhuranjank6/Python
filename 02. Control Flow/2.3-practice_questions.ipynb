{
 "cells": [
  {
   "cell_type": "markdown",
   "id": "36f3091f",
   "metadata": {},
   "source": [
    "## Lesson 2.1: Conditional Statements\n",
    "### Assignment 1: Simple if Statement\n",
    "Write a program that asks the user to input a number and prints whether the number is positive."
   ]
  },
  {
   "cell_type": "code",
   "execution_count": 1,
   "id": "ee43fa6b",
   "metadata": {},
   "outputs": [
    {
     "name": "stdout",
     "output_type": "stream",
     "text": [
      "10 is Positive Number\n"
     ]
    }
   ],
   "source": [
    "num = int(input(\"Enter the number to check for positive: \"))\n",
    "if(num > 0):\n",
    "    print(f\"{num} is Positive Number\")\n",
    "else:\n",
    "    print(f\"{num} is not Positive\")"
   ]
  },
  {
   "cell_type": "markdown",
   "id": "71189547",
   "metadata": {},
   "source": [
    "### Assignment 2: if-else Statement\n",
    "\n",
    "Write a program that asks the user to input a number and prints whether the number is positive or negative."
   ]
  },
  {
   "cell_type": "code",
   "execution_count": 4,
   "id": "95d6a22c",
   "metadata": {},
   "outputs": [
    {
     "name": "stdout",
     "output_type": "stream",
     "text": [
      "-14 is Negative\n"
     ]
    }
   ],
   "source": [
    "num = int(input(\"Enter the number: \"))\n",
    "if(num > 0):\n",
    "    print(f\"{num} is Positive\")\n",
    "elif num < 0:\n",
    "    print(f\"{num} is Negative\")\n",
    "else:\n",
    "    print(f\"{num} is Zero\")"
   ]
  },
  {
   "cell_type": "markdown",
   "id": "5168f43e",
   "metadata": {},
   "source": [
    "### Assignment 3: Nested if Statement\n",
    "\n",
    "Write a program that asks the user to input a number and prints whether the number is positive and even, positive and odd, or negative."
   ]
  },
  {
   "cell_type": "code",
   "execution_count": 6,
   "id": "8193f474",
   "metadata": {},
   "outputs": [
    {
     "name": "stdout",
     "output_type": "stream",
     "text": [
      "13 is Positive and Odd\n"
     ]
    }
   ],
   "source": [
    "num = int(input(\"Enter the number to check: \"))\n",
    "if(num > 0):\n",
    "    if(num%2==0):\n",
    "        print(f\"{num} is Positive and Even\")\n",
    "    else:\n",
    "        print(f\"{num} is Positive and Odd\")\n",
    "else:\n",
    "    print(f\"{num} is either Negative or Zero\")"
   ]
  },
  {
   "cell_type": "markdown",
   "id": "33b12502",
   "metadata": {},
   "source": [
    "## Lesson 2.2: Loops\n",
    "### Assignment 4: for Loop\n",
    "Write a program that prints all the numbers from 1 to 10 using a for loop."
   ]
  },
  {
   "cell_type": "code",
   "execution_count": 7,
   "id": "f9797573",
   "metadata": {},
   "outputs": [
    {
     "name": "stdout",
     "output_type": "stream",
     "text": [
      "0 1 2 3 4 5 6 7 8 9 10 "
     ]
    }
   ],
   "source": [
    "for i in range(11):\n",
    "    print(i,end=\" \")"
   ]
  },
  {
   "cell_type": "markdown",
   "id": "7d83233c",
   "metadata": {},
   "source": [
    "### Assignment 5: while Loop\n",
    "\n",
    "Write a program that prints all the numbers from 1 to 10 using a while loop."
   ]
  },
  {
   "cell_type": "code",
   "execution_count": 8,
   "id": "07799d7f",
   "metadata": {},
   "outputs": [
    {
     "name": "stdout",
     "output_type": "stream",
     "text": [
      "1 2 3 4 5 6 7 8 9 10 "
     ]
    }
   ],
   "source": [
    "num = 1\n",
    "while(num<=10):\n",
    "    print(num,end=\" \")\n",
    "    num += 1"
   ]
  },
  {
   "cell_type": "markdown",
   "id": "917f02ea",
   "metadata": {},
   "source": [
    "### Assignment 6: Nested Loops\n",
    "\n",
    "Write a program that prints a 5x5 grid of asterisks (*) using nested loops."
   ]
  },
  {
   "cell_type": "code",
   "execution_count": 9,
   "id": "2c73327a",
   "metadata": {},
   "outputs": [
    {
     "name": "stdout",
     "output_type": "stream",
     "text": [
      "* * * * * \n",
      "* * * * * \n",
      "* * * * * \n",
      "* * * * * \n",
      "* * * * * \n"
     ]
    }
   ],
   "source": [
    "for row in range(5):\n",
    "    for col in range(5):\n",
    "        print(\"*\",end=\" \")\n",
    "    print()"
   ]
  },
  {
   "cell_type": "markdown",
   "id": "82391a93",
   "metadata": {},
   "source": [
    "### Assignment 7: break Statement\n",
    "\n",
    "Write a program that asks the user to input numbers until they input 0. The program should print the sum of all the input numbers."
   ]
  },
  {
   "cell_type": "code",
   "execution_count": 12,
   "id": "45ec30a5",
   "metadata": {},
   "outputs": [
    {
     "name": "stdout",
     "output_type": "stream",
     "text": [
      "54\n"
     ]
    }
   ],
   "source": [
    "sum = 0\n",
    "user_input = int(input(\"Enter any number or enter 0 for terminate the process\"))\n",
    "while user_input:\n",
    "    if user_input == 0:\n",
    "        break\n",
    "    user_input = int(input(\"Enter any number or enter 0 for terminate the process\"))\n",
    "    sum = sum + user_input\n",
    "\n",
    "print(sum)"
   ]
  },
  {
   "cell_type": "markdown",
   "id": "aec3cbf7",
   "metadata": {},
   "source": [
    "### Assignment 8: continue Statement\n",
    "\n",
    "Write a program that prints all the numbers from 1 to 10 except 5 using a for loop and continue statement."
   ]
  },
  {
   "cell_type": "code",
   "execution_count": 13,
   "id": "9ae96c0a",
   "metadata": {},
   "outputs": [
    {
     "name": "stdout",
     "output_type": "stream",
     "text": [
      "0 1 2 3 4 6 7 8 9 10 "
     ]
    }
   ],
   "source": [
    "for i in range(11):\n",
    "    if i==5:\n",
    "        continue\n",
    "    print(i,end=\" \")"
   ]
  },
  {
   "cell_type": "markdown",
   "id": "993d4169",
   "metadata": {},
   "source": [
    "### Assignment 9: Combining Loops and Conditionals\n",
    "\n",
    "Write a program that asks the user to input a number and prints all the even numbers from 1 to that number using a for loop."
   ]
  },
  {
   "cell_type": "code",
   "execution_count": 15,
   "id": "7bdcd483",
   "metadata": {},
   "outputs": [
    {
     "name": "stdout",
     "output_type": "stream",
     "text": [
      "2 4 6 8 10 12 14 16 18 20 22 24 26 28 30 32 34 36 38 40 42 44 46 48 50 52 54 56 58 60 62 64 66 68 70 72 74 76 78 80 82 84 86 88 90 92 94 96 98 100 "
     ]
    }
   ],
   "source": [
    "n = int(input(\"Enter the number upto which you want to print the even numbers: \"))\n",
    "for i in range(2,n+1):\n",
    "    if i%2 == 0 :\n",
    "        print(i,end=\" \")"
   ]
  },
  {
   "cell_type": "markdown",
   "id": "d3929c3c",
   "metadata": {},
   "source": [
    "### Assignment 10: Factorial Calculation\n",
    "\n",
    "Write a program that calculates the factorial of a number input by the user using a while loop."
   ]
  },
  {
   "cell_type": "code",
   "execution_count": 20,
   "id": "2af55017",
   "metadata": {},
   "outputs": [
    {
     "name": "stdout",
     "output_type": "stream",
     "text": [
      "Factorial is 3628800.\n"
     ]
    }
   ],
   "source": [
    "num = int(input(\"Enter the number to calculate the factorial: \"))\n",
    "fact = 1\n",
    "if num == 0 or num == 1:\n",
    "    print(f\"Factorial is {fact}.\")\n",
    "else:\n",
    "    while num > 0:\n",
    "        fact = fact * num \n",
    "        num = num -1\n",
    "\n",
    "    print(f\"Factorial is {fact}.\")\n",
    "    "
   ]
  },
  {
   "cell_type": "markdown",
   "id": "d5641ac9",
   "metadata": {},
   "source": [
    "### Assignment 11: Sum of Digits\n",
    "\n",
    "Write a program that calculates the sum of the digits of a number input by the user using a while loop."
   ]
  },
  {
   "cell_type": "code",
   "execution_count": 21,
   "id": "40d6cf89",
   "metadata": {},
   "outputs": [
    {
     "name": "stdout",
     "output_type": "stream",
     "text": [
      "15\n"
     ]
    }
   ],
   "source": [
    "n = int(input(\"Enter the number to calculate the sum of th digits: \"))\n",
    "sum = 0\n",
    "while n > 0:\n",
    "    last_digit = n % 10\n",
    "    sum += last_digit\n",
    "    n = n // 10\n",
    "\n",
    "print(sum)"
   ]
  },
  {
   "cell_type": "markdown",
   "id": "7a06f88b",
   "metadata": {},
   "source": [
    "### Assignment 12: Prime Number Check\n",
    "\n",
    "Write a program that checks if a number input by the user is a prime number using a for loop."
   ]
  },
  {
   "cell_type": "code",
   "execution_count": 25,
   "id": "763e5923",
   "metadata": {},
   "outputs": [
    {
     "name": "stdout",
     "output_type": "stream",
     "text": [
      "1 is Not a Prime Number\n"
     ]
    }
   ],
   "source": [
    "n = int(input(\"Enter the number to check if is Prime number or not:  \"))\n",
    "flag = True\n",
    "for i in range(2,n//2):\n",
    "    if n % i == 0:\n",
    "        flag = False\n",
    "        break\n",
    "\n",
    "\n",
    "if flag and n > 1:\n",
    "    print(f\"{n} is Prime Number\")\n",
    "else:\n",
    "    print(f\"{n} is Not a Prime Number\")\n"
   ]
  },
  {
   "cell_type": "markdown",
   "id": "eefc67b8",
   "metadata": {},
   "source": [
    "### Assignment 13: Fibonacci Sequence\n",
    "\n",
    "Write a program that prints the first n Fibonacci numbers, where n is input by the user."
   ]
  },
  {
   "cell_type": "code",
   "execution_count": 26,
   "metadata": {},
   "outputs": [
    {
     "name": "stdout",
     "output_type": "stream",
     "text": [
      "0 1 1 2 3 5 8 13 21 34 "
     ]
    }
   ],
   "source": [
    "n = int(input(\"Enter the  number of terms you want to display: \"))\n",
    "\n",
    "first_term = 0\n",
    "second_term = 1\n",
    "\n",
    "print(first_term,second_term,end=\" \")\n",
    "\n",
    "for i in range(2,n):\n",
    "    third_term = first_term + second_term\n",
    "    first_term = second_term\n",
    "    second_term = third_term\n",
    "    print(third_term,end=\" \")"
   ]
  }
 ],
 "metadata": {
  "kernelspec": {
   "display_name": "Python 3",
   "language": "python",
   "name": "python3"
  },
  "language_info": {
   "codemirror_mode": {
    "name": "ipython",
    "version": 3
   },
   "file_extension": ".py",
   "mimetype": "text/x-python",
   "name": "python",
   "nbconvert_exporter": "python",
   "pygments_lexer": "ipython3",
   "version": "3.10.12"
  }
 },
 "nbformat": 4,
 "nbformat_minor": 5
}
