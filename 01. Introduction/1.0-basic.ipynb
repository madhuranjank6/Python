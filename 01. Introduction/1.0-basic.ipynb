{
 "cells": [
  {
   "cell_type": "markdown",
   "metadata": {},
   "source": [
    "### Syntax and Semantics in Python\n",
    "\n",
    "Outline:\n",
    "* Single line Comments and Multiline Comments\n",
    "* Definition of Syntax and Semantics\n",
    "* Basic Syntax Rule in Python\n",
    "* Understanding Semantics in Python\n",
    "* Common Syntax Errors and How to avoid them\n",
    "* Practical Code Examples\n",
    "\n",
    "Syntax refers to the set of rules that defines the combinations of symbols that are considered to be correctly structured programs in a language. In simpler terms, syntax is about the correct arrangements of words and symbols in code\n",
    "\n",
    "\n",
    "Semantics refers to the meaning or the interpretation of the symbols, characters, and commands in the language. It is about what the code is supposed to do when it runs"
   ]
  },
  {
   "cell_type": "code",
   "execution_count": 1,
   "metadata": {},
   "outputs": [
    {
     "name": "stdout",
     "output_type": "stream",
     "text": [
      "Madhuranjan\n",
      "Kumar\n"
     ]
    }
   ],
   "source": [
    "#Basic Syntax rules in Python\n",
    "\n",
    "##case sensitivity: Python is case sensitive\n",
    "\n",
    "name = \"Madhuranjan\"\n",
    "Name= \"Kumar\"\n",
    "\n",
    "# as python is case sensitive both the above defined are two different variables\n",
    "print(name)\n",
    "print(Name)"
   ]
  },
  {
   "cell_type": "markdown",
   "metadata": {},
   "source": [
    "#### Indentation\n",
    "Indentation in python is used to define the structure and hierarchy of the code. Unlike many other programming languages that use braces {} to delimit blocks od code, Python uses indenation to determine the grouping of the statements. This means that all the statements within the block must be intented at the same level"
   ]
  },
  {
   "cell_type": "code",
   "execution_count": 6,
   "metadata": {},
   "outputs": [
    {
     "name": "stdout",
     "output_type": "stream",
     "text": [
      "greater than 18\n",
      "32\n"
     ]
    }
   ],
   "source": [
    "## Indentation\n",
    "# Python uses indentation to define blocks of code. Consistent use of spaces (commonly 4) or a tab is required\n",
    "\n",
    "age = 32\n",
    "if(age>18):\n",
    "    print(\"greater than 18\")\n",
    "else:\n",
    "    print(\"less than 18\")\n",
    "\n",
    "print(age)"
   ]
  },
  {
   "cell_type": "code",
   "execution_count": 7,
   "metadata": {},
   "outputs": [
    {
     "name": "stdout",
     "output_type": "stream",
     "text": [
      "15\n"
     ]
    }
   ],
   "source": [
    "#multiple statements on a single line\n",
    "x=5;y=10;z=x+y\n",
    "print(z)"
   ]
  },
  {
   "cell_type": "code",
   "execution_count": 8,
   "metadata": {},
   "outputs": [
    {
     "name": "stdout",
     "output_type": "stream",
     "text": [
      "<class 'int'>\n",
      "<class 'str'>\n"
     ]
    }
   ],
   "source": [
    "## Understanding Semantics in Python\n",
    "\n",
    "#1. variable assignment\n",
    "age = 32 ##no need to explicitly mention the data type of the value\n",
    "name= \"Madhurnjan\"\n",
    "\n",
    "print(type(age))\n",
    "print(type(name))"
   ]
  },
  {
   "cell_type": "code",
   "execution_count": 9,
   "metadata": {},
   "outputs": [
    {
     "name": "stdout",
     "output_type": "stream",
     "text": [
      "<class 'int'>\n",
      "<class 'str'>\n"
     ]
    }
   ],
   "source": [
    "#Type Inference\n",
    "var = 10\n",
    "print(type(var))\n",
    "var = \"Madhu\"\n",
    "print(type(var))"
   ]
  },
  {
   "cell_type": "code",
   "execution_count": 10,
   "metadata": {},
   "outputs": [
    {
     "name": "stdout",
     "output_type": "stream",
     "text": [
      "Correct Indentation\n",
      "This will print\n",
      "Outside the if block\n"
     ]
    }
   ],
   "source": [
    "#code examples of indentation\n",
    "if True:\n",
    "    print(\"Correct Indentation\")\n",
    "    if False:\n",
    "        print(\"It will not print\")\n",
    "    print(\"This will print\")\n",
    "print(\"Outside the if block\")"
   ]
  },
  {
   "cell_type": "code",
   "execution_count": null,
   "metadata": {},
   "outputs": [],
   "source": []
  }
 ],
 "metadata": {
  "kernelspec": {
   "display_name": ".venv",
   "language": "python",
   "name": "python3"
  },
  "language_info": {
   "codemirror_mode": {
    "name": "ipython",
    "version": 3
   },
   "file_extension": ".py",
   "mimetype": "text/x-python",
   "name": "python",
   "nbconvert_exporter": "python",
   "pygments_lexer": "ipython3",
   "version": "3.10.12"
  }
 },
 "nbformat": 4,
 "nbformat_minor": 2
}
