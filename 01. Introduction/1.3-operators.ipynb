{
 "cells": [
  {
   "cell_type": "markdown",
   "metadata": {},
   "source": [
    "### Operators\n",
    "\n",
    "1. Introduction to operators\n",
    "2. Arithmetic Operators\n",
    "    * Addition\n",
    "    * Subtraction\n",
    "    * Multiplication\n",
    "    * Division\n",
    "    * Floor Division\n",
    "    * Modulus\n",
    "    * Exponentiation\n",
    "3. Comparison Operators\n",
    "    * Equal to\n",
    "    * Not Equal to\n",
    "    * Greater than\n",
    "    * Less than\n",
    "    * Greater than or equal to\n",
    "    * Less than or Equal to\n",
    "4. Logical Operators\n",
    "    * AND\n",
    "    * OR\n",
    "    * NOT\n",
    "5. Practical Examples and Common Errors"
   ]
  },
  {
   "cell_type": "markdown",
   "metadata": {},
   "source": [
    "#### Arithmetic Operators"
   ]
  },
  {
   "cell_type": "code",
   "execution_count": 2,
   "metadata": {},
   "outputs": [
    {
     "name": "stdout",
     "output_type": "stream",
     "text": [
      "15\n",
      "5\n",
      "50\n",
      "2.0\n",
      "2\n",
      "0\n",
      "100000\n"
     ]
    }
   ],
   "source": [
    "## Arithmetic Operations\n",
    "a = 10\n",
    "b = 5\n",
    "\n",
    "add_result = a+b #Addition\n",
    "sub_result = a-b #Subtraction\n",
    "mul_result = a*b #Multiplication\n",
    "div_result = a/b #Division\n",
    "floor_div_result = a//b #Floor division\n",
    "modulus_result = a%b #modulus operation\n",
    "exponention_result = a ** b #Exponential operation\n",
    "print(add_result) \n",
    "print(sub_result)\n",
    "print(mul_result)\n",
    "print(div_result)\n",
    "print(floor_div_result)\n",
    "print(modulus_result)\n",
    "print(exponention_result)"
   ]
  },
  {
   "cell_type": "code",
   "execution_count": 3,
   "metadata": {},
   "outputs": [
    {
     "data": {
      "text/plain": [
       "2.0"
      ]
     },
     "execution_count": 3,
     "metadata": {},
     "output_type": "execute_result"
    }
   ],
   "source": [
    "10/5"
   ]
  },
  {
   "cell_type": "code",
   "execution_count": 4,
   "metadata": {},
   "outputs": [
    {
     "data": {
      "text/plain": [
       "4.2"
      ]
     },
     "execution_count": 4,
     "metadata": {},
     "output_type": "execute_result"
    }
   ],
   "source": [
    "21/5"
   ]
  },
  {
   "cell_type": "code",
   "execution_count": 5,
   "metadata": {},
   "outputs": [
    {
     "data": {
      "text/plain": [
       "4"
      ]
     },
     "execution_count": 5,
     "metadata": {},
     "output_type": "execute_result"
    }
   ],
   "source": [
    "21//5"
   ]
  },
  {
   "cell_type": "markdown",
   "metadata": {},
   "source": [
    "#### Comparison Operators"
   ]
  },
  {
   "cell_type": "code",
   "execution_count": 7,
   "metadata": {},
   "outputs": [
    {
     "name": "stdout",
     "output_type": "stream",
     "text": [
      "True\n",
      "False\n"
     ]
    }
   ],
   "source": [
    "##Comparison Operators\n",
    "\n",
    "# '==' Equal to Operator\n",
    "a = 10\n",
    "b = 10\n",
    "c =15\n",
    "print(a == b) #true\n",
    "print(a == c)#False"
   ]
  },
  {
   "cell_type": "code",
   "execution_count": 9,
   "metadata": {},
   "outputs": [
    {
     "name": "stdout",
     "output_type": "stream",
     "text": [
      "True\n",
      "False\n"
     ]
    }
   ],
   "source": [
    "str1 = 'Madhu'\n",
    "str2 = 'Madhu'\n",
    "str3 = \"madhu\"\n",
    "\n",
    "print(str1 == str2) # true\n",
    "print(str2 == str3) #false"
   ]
  },
  {
   "cell_type": "code",
   "execution_count": 10,
   "metadata": {},
   "outputs": [
    {
     "name": "stdout",
     "output_type": "stream",
     "text": [
      "False\n",
      "True\n"
     ]
    }
   ],
   "source": [
    "# '!=' Not Equal to\n",
    "print(str1 != str2) #False\n",
    "print(str1 != str3) #True"
   ]
  },
  {
   "cell_type": "code",
   "execution_count": 11,
   "metadata": {},
   "outputs": [
    {
     "name": "stdout",
     "output_type": "stream",
     "text": [
      "False\n",
      "True\n"
     ]
    }
   ],
   "source": [
    "# Greater than (>)\n",
    "num1 = 45\n",
    "num2 = 55\n",
    "\n",
    "print(num1>num2) #False\n",
    "print(num2>num1) #True"
   ]
  },
  {
   "cell_type": "code",
   "execution_count": 12,
   "metadata": {},
   "outputs": [
    {
     "name": "stdout",
     "output_type": "stream",
     "text": [
      "True\n",
      "False\n"
     ]
    }
   ],
   "source": [
    "# Less than (<)\n",
    "print(num1 < num2) #True\n",
    "print(num2 < num1) #False"
   ]
  },
  {
   "cell_type": "code",
   "execution_count": 13,
   "metadata": {},
   "outputs": [
    {
     "name": "stdout",
     "output_type": "stream",
     "text": [
      "True\n",
      "True\n"
     ]
    }
   ],
   "source": [
    "#Greater than or equal to (>=)\n",
    "number1 = 45\n",
    "number2 = 45\n",
    "\n",
    "print(number1>=number2) #True\n",
    "print(number2>=number1) #True"
   ]
  },
  {
   "cell_type": "markdown",
   "metadata": {},
   "source": [
    "#### Logical Operators"
   ]
  },
  {
   "cell_type": "code",
   "execution_count": 19,
   "metadata": {},
   "outputs": [
    {
     "name": "stdout",
     "output_type": "stream",
     "text": [
      "True\n",
      "False\n",
      "True\n",
      "True\n",
      "False\n",
      "False\n",
      "True\n"
     ]
    }
   ],
   "source": [
    "## Logical Operators\n",
    "x = True\n",
    "y = True\n",
    "z = False\n",
    "\n",
    "result = x and y\n",
    "print(result) # true\n",
    "print(x and z) # False\n",
    "\n",
    "print(x or y) #True\n",
    "print(y or z) # True\n",
    "print(z or z) # False\n",
    "\n",
    "print(not x) #False\n",
    "print(not z) #True"
   ]
  },
  {
   "cell_type": "code",
   "execution_count": null,
   "metadata": {},
   "outputs": [],
   "source": []
  }
 ],
 "metadata": {
  "kernelspec": {
   "display_name": ".venv",
   "language": "python",
   "name": "python3"
  },
  "language_info": {
   "codemirror_mode": {
    "name": "ipython",
    "version": 3
   },
   "file_extension": ".py",
   "mimetype": "text/x-python",
   "name": "python",
   "nbconvert_exporter": "python",
   "pygments_lexer": "ipython3",
   "version": "3.10.12"
  }
 },
 "nbformat": 4,
 "nbformat_minor": 2
}
