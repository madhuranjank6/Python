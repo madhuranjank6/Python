{
 "cells": [
  {
   "cell_type": "markdown",
   "metadata": {},
   "source": [
    "## Polymorphism in Python\n",
    "\n",
    "Polymorphism is the core concept in Object-Oriented Programming that allows objects of differet classes to be treated as object of a common superclass. It provides a way to perform a single action in different forms. Polymorphism is typically achieved through method overriding and interfaces\n",
    "\n",
    "\n",
    "### Method Overriding\n",
    "Mehtod Overriding allow a child class to provide a specific implementation of a method that is already defined it in its parent class"
   ]
  },
  {
   "cell_type": "code",
   "execution_count": 2,
   "metadata": {},
   "outputs": [
    {
     "name": "stdout",
     "output_type": "stream",
     "text": [
      "Woof!\n",
      "Meow!\n",
      "Woof!\n",
      "Meow!\n"
     ]
    }
   ],
   "source": [
    "### Method Overriding\n",
    "\n",
    "##Base class\n",
    "class Animal:\n",
    "    def speak(self):\n",
    "        return \"Sound of the Animal\"\n",
    "    \n",
    "\n",
    "## derived class 1\n",
    "class Dog(Animal):\n",
    "    def speak(self):\n",
    "        return \"Woof!\"\n",
    "    \n",
    "## derived class 2\n",
    "class Cat(Animal):\n",
    "    def speak(self):\n",
    "        return \"Meow!\"\n",
    "    \n",
    "\n",
    "## function that demonstartes Polymorphism\n",
    "def animal_speak(animal):\n",
    "    print(animal.speak())\n",
    "\n",
    "\n",
    "dog = Dog()\n",
    "cat = Cat()\n",
    "\n",
    "print(dog.speak())\n",
    "print(cat.speak())\n",
    "\n",
    "\n",
    "animal_speak(dog)\n",
    "animal_speak(cat)"
   ]
  },
  {
   "cell_type": "code",
   "execution_count": 4,
   "metadata": {},
   "outputs": [
    {
     "name": "stdout",
     "output_type": "stream",
     "text": [
      "the area is 20\n",
      "the area is 28.26\n"
     ]
    }
   ],
   "source": [
    "### Polymorphism with functions and methods\n",
    "\n",
    "## Base class\n",
    "class Shape:\n",
    "    def area(self):\n",
    "        return \"The area of the figure\"\n",
    "    \n",
    "## Derived Class 1\n",
    "class Rectangle(Shape):\n",
    "    def __init__(self,width,height):\n",
    "        self.width = width\n",
    "        self.height = height\n",
    "\n",
    "    def area(self):\n",
    "        return self.width * self.height\n",
    "    \n",
    "## Derived class 2\n",
    "class Circle(Shape):\n",
    "    def __init__(self,radius):\n",
    "        self.radius = radius\n",
    "\n",
    "\n",
    "    def area(self):\n",
    "        return 3.14 * (self.radius**2)\n",
    "    \n",
    "\n",
    "\n",
    "## Fucntion that demonstrated Polymorphism\n",
    "def print_area(shape):\n",
    "    print(f\"the area is {shape.area()}\")\n",
    "\n",
    "rect_object = Rectangle(4,5)\n",
    "circ_object = Circle(3)\n",
    "\n",
    "print_area(rect_object)\n",
    "print_area(circ_object)"
   ]
  },
  {
   "cell_type": "markdown",
   "metadata": {},
   "source": [
    "### Abstract Base Classes(Interface) \n",
    "\n",
    "Abstract Base Classes (ABCs) are used to define common methods for a group of related objects. They can enforce that derived classes implement particular methods, promoting consistency across different implementations"
   ]
  },
  {
   "cell_type": "code",
   "execution_count": 5,
   "metadata": {},
   "outputs": [
    {
     "name": "stdout",
     "output_type": "stream",
     "text": [
      "Car Engine Started\n",
      "Motor Cycle engine started\n"
     ]
    }
   ],
   "source": [
    "## Polymorphism with Abstract Base Classes (Interface in other Programming languages)\n",
    "\n",
    "from abc import ABC,abstractmethod\n",
    "\n",
    "## Defining the Abstract Class\n",
    "class Vehicle(ABC):\n",
    "    @abstractmethod\n",
    "    def start_engine(self):\n",
    "        pass\n",
    "\n",
    "## Derived class 1\n",
    "\n",
    "class Car(Vehicle):\n",
    "    def start_engine(self):\n",
    "        return \"Car Engine Started\"\n",
    "    \n",
    "\n",
    "## Derived class 2\n",
    "class MotorCycle(Vehicle):\n",
    "    def start_engine(self):\n",
    "        return \"Motor Cycle engine started\"\n",
    "    \n",
    "\n",
    "## Function to demonstrate the polymorphism\n",
    "def start_vehicle(vehicle):\n",
    "    print(vehicle.start_engine())\n",
    "\n",
    "## Create objects of the cars and motorcycle\n",
    "car = Car()\n",
    "motorcycle = MotorCycle()\n",
    "\n",
    "start_vehicle(car)\n",
    "start_vehicle(motorcycle)"
   ]
  },
  {
   "cell_type": "markdown",
   "metadata": {},
   "source": [
    "### Conclusion\n",
    "Polymorphism is a Powerful feature of OOP that allows for flexibility and integration in code design. It enables a single function to handle objects of different classes, each with its own implementation of a method. By understanding and applying the polymorphism, we can create more extensible and maintainable Object-Oriented programs"
   ]
  }
 ],
 "metadata": {
  "kernelspec": {
   "display_name": ".venv",
   "language": "python",
   "name": "python3"
  },
  "language_info": {
   "codemirror_mode": {
    "name": "ipython",
    "version": 3
   },
   "file_extension": ".py",
   "mimetype": "text/x-python",
   "name": "python",
   "nbconvert_exporter": "python",
   "pygments_lexer": "ipython3",
   "version": "3.10.12"
  }
 },
 "nbformat": 4,
 "nbformat_minor": 2
}
