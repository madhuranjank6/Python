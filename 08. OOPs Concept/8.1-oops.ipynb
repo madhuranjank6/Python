{
 "cells": [
  {
   "cell_type": "markdown",
   "metadata": {},
   "source": [
    "## Classes and Objects\n",
    "\n",
    "Object-Oriented Programming (OOP) is a programming paradigm that uses \"objects\" to design applications and computer programs. OOP allows for modelling real-world scenario using the classes and objects. This notebook covers the basics of creating classes and objects, including instance variables and methods.\n",
    "\n",
    "### Class\n",
    "A class is a buleprint for creating objects. Attributes, methods"
   ]
  },
  {
   "cell_type": "code",
   "execution_count": 2,
   "metadata": {},
   "outputs": [
    {
     "name": "stdout",
     "output_type": "stream",
     "text": [
      "<class '__main__.Car'>\n",
      "<__main__.Car object at 0x7c0ac02996f0>\n",
      "<__main__.Car object at 0x7c0ac0299c60>\n"
     ]
    }
   ],
   "source": [
    "## Class is a blueprint  for creating objects\n",
    "\n",
    "class Car:\n",
    "    pass\n",
    "\n",
    "audi = Car() ## audi is the object of the Car\n",
    "bmw = Car()\n",
    "\n",
    "print(type(audi))\n",
    "\n",
    "print(bmw)\n",
    "print(audi)"
   ]
  },
  {
   "cell_type": "code",
   "execution_count": 3,
   "metadata": {},
   "outputs": [
    {
     "data": {
      "text/plain": [
       "['__class__',\n",
       " '__delattr__',\n",
       " '__dict__',\n",
       " '__dir__',\n",
       " '__doc__',\n",
       " '__eq__',\n",
       " '__format__',\n",
       " '__ge__',\n",
       " '__getattribute__',\n",
       " '__gt__',\n",
       " '__hash__',\n",
       " '__init__',\n",
       " '__init_subclass__',\n",
       " '__le__',\n",
       " '__lt__',\n",
       " '__module__',\n",
       " '__ne__',\n",
       " '__new__',\n",
       " '__reduce__',\n",
       " '__reduce_ex__',\n",
       " '__repr__',\n",
       " '__setattr__',\n",
       " '__sizeof__',\n",
       " '__str__',\n",
       " '__subclasshook__',\n",
       " '__weakref__']"
      ]
     },
     "execution_count": 3,
     "metadata": {},
     "output_type": "execute_result"
    }
   ],
   "source": [
    "dir(audi)"
   ]
  },
  {
   "cell_type": "code",
   "execution_count": 6,
   "metadata": {},
   "outputs": [
    {
     "name": "stdout",
     "output_type": "stream",
     "text": [
      "<__main__.Dog object at 0x7c0ab8503400>\n",
      "Buddy\n",
      "3\n"
     ]
    }
   ],
   "source": [
    "## Instance variables and methods\n",
    "\n",
    "class Dog:\n",
    "    ## construction\n",
    "    def __init__(self,name,age):\n",
    "        self.name = name\n",
    "        self.age = age\n",
    "\n",
    "\n",
    "## Creating the object\n",
    "dog_1 = Dog('Buddy',3)\n",
    "print(dog_1)\n",
    "print(dog_1.name)\n",
    "print(dog_1.age)\n"
   ]
  },
  {
   "cell_type": "code",
   "execution_count": 7,
   "metadata": {},
   "outputs": [
    {
     "name": "stdout",
     "output_type": "stream",
     "text": [
      "Lucy\n",
      "4\n"
     ]
    }
   ],
   "source": [
    "dog_2 = Dog('Lucy',4)\n",
    "print(dog_2.name)\n",
    "print(dog_2.age)"
   ]
  },
  {
   "cell_type": "code",
   "execution_count": 10,
   "metadata": {},
   "outputs": [
    {
     "name": "stdout",
     "output_type": "stream",
     "text": [
      "Buddy says woof\n",
      "Lucy says woof\n"
     ]
    }
   ],
   "source": [
    "##class with instance method\n",
    "\n",
    "class Dog:\n",
    "    def __init__(self,name,age):\n",
    "        self.name = name\n",
    "        self.age  = age\n",
    "\n",
    "    def bark(self):\n",
    "        print(f\"{self.name} says woof\")\n",
    "\n",
    "dog_1 = Dog('Buddy',3)\n",
    "dog_1.bark()\n",
    "\n",
    "dog_2 = Dog(\"Lucy\",4)\n",
    "dog_2.bark()"
   ]
  },
  {
   "cell_type": "code",
   "execution_count": 12,
   "metadata": {},
   "outputs": [
    {
     "name": "stdout",
     "output_type": "stream",
     "text": [
      "10000\n"
     ]
    }
   ],
   "source": [
    "## Modelling a Bank Account\n",
    "\n",
    "## Defining the class for the bank account\n",
    "class BankAccount:\n",
    "    def __init__(self,owner,balance=0):\n",
    "        self.owner = owner\n",
    "        self.balance = balance\n",
    "\n",
    "    def deposit(self,amount):\n",
    "        self.balance += amount\n",
    "        print(f\"Amount is Deposited. New Balance: {self.balance}\")\n",
    "\n",
    "    def withdraw(self,amount):\n",
    "        if(amount >  self.balance):\n",
    "            print(f\"Insufficient Funds!\")\n",
    "        else:\n",
    "            self.balance -= amount\n",
    "            print(f\"Withdrawal Successfull. Remaining Balance: {self.balance}\")\n",
    "\n",
    "    def get_balance(self):\n",
    "        return self.balance\n",
    "    \n",
    "## Creating the object\n",
    "\n",
    "account = BankAccount('Madhuranjan',10000)\n",
    "print(account.get_balance())\n"
   ]
  },
  {
   "cell_type": "code",
   "execution_count": 13,
   "metadata": {},
   "outputs": [
    {
     "name": "stdout",
     "output_type": "stream",
     "text": [
      "Amount is Deposited. New Balance: 10100\n"
     ]
    }
   ],
   "source": [
    "## Calling the instance methods\n",
    "\n",
    "\n",
    "## depositing the money\n",
    "account.deposit(100)"
   ]
  },
  {
   "cell_type": "code",
   "execution_count": 14,
   "metadata": {},
   "outputs": [
    {
     "name": "stdout",
     "output_type": "stream",
     "text": [
      "Withdrawal Successfull. Remaining Balance: 9900\n"
     ]
    }
   ],
   "source": [
    "## Withdrawing the money\n",
    "account.withdraw(200)"
   ]
  },
  {
   "cell_type": "markdown",
   "metadata": {},
   "source": [
    "### Conclusion\n",
    "Object-Oriented Progamming (OOP) allows us to model real-world scenarios using classes and objects. In this notebook we learned how to create classes and objects, define instance variables and methods, and use them to perform various operations. understanding these concepts is fundamental to writing effective and maintainable python code."
   ]
  },
  {
   "cell_type": "markdown",
   "metadata": {},
   "source": []
  }
 ],
 "metadata": {
  "kernelspec": {
   "display_name": ".venv",
   "language": "python",
   "name": "python3"
  },
  "language_info": {
   "codemirror_mode": {
    "name": "ipython",
    "version": 3
   },
   "file_extension": ".py",
   "mimetype": "text/x-python",
   "name": "python",
   "nbconvert_exporter": "python",
   "pygments_lexer": "ipython3",
   "version": "3.10.12"
  }
 },
 "nbformat": 4,
 "nbformat_minor": 2
}
