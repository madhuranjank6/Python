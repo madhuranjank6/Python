{
 "cells": [
  {
   "cell_type": "markdown",
   "metadata": {},
   "source": [
    "## Encapsulation And Abstraction\n",
    "Encapsulation and Abstraction are two fundamental principles of Object-Oriented Programming (OOP) that help in designing robust, maintainable, and reusable code. Encapsulation involves bundling data and methods that operate on the data within a single unit, while abstraction involves hiding complex implementation details and exposing only the neccessary features.\n",
    "\n",
    "## Encapsulation\n",
    "Encapsulation is the concept of wrapping data (variables) and methods(functions) together as a single unit. It restricts direct access to some of the object's components, which is a means of preventing accidental interference and misuse of the data"
   ]
  },
  {
   "cell_type": "code",
   "execution_count": 2,
   "metadata": {},
   "outputs": [
    {
     "name": "stdout",
     "output_type": "stream",
     "text": [
      "Madhu\n"
     ]
    }
   ],
   "source": [
    "### Encapsulation with getter and setter method\n",
    "\n",
    "### Access Modifiers: Public, Protected and Private \n",
    "class Person:\n",
    "    def __init__(self,name,age):\n",
    "        self.name = name ## Public variables\n",
    "        self.age = age ## Public variables\n",
    "\n",
    "person = Person(\"Madhu\",24)\n",
    "print(person.name)"
   ]
  },
  {
   "cell_type": "code",
   "execution_count": 3,
   "metadata": {},
   "outputs": [
    {
     "data": {
      "text/plain": [
       "['__class__',\n",
       " '__delattr__',\n",
       " '__dict__',\n",
       " '__dir__',\n",
       " '__doc__',\n",
       " '__eq__',\n",
       " '__format__',\n",
       " '__ge__',\n",
       " '__getattribute__',\n",
       " '__gt__',\n",
       " '__hash__',\n",
       " '__init__',\n",
       " '__init_subclass__',\n",
       " '__le__',\n",
       " '__lt__',\n",
       " '__module__',\n",
       " '__ne__',\n",
       " '__new__',\n",
       " '__reduce__',\n",
       " '__reduce_ex__',\n",
       " '__repr__',\n",
       " '__setattr__',\n",
       " '__sizeof__',\n",
       " '__str__',\n",
       " '__subclasshook__',\n",
       " '__weakref__',\n",
       " 'age',\n",
       " 'name']"
      ]
     },
     "execution_count": 3,
     "metadata": {},
     "output_type": "execute_result"
    }
   ],
   "source": [
    "dir(person)"
   ]
  },
  {
   "cell_type": "code",
   "execution_count": 9,
   "metadata": {},
   "outputs": [
    {
     "name": "stdout",
     "output_type": "stream",
     "text": [
      "male\n",
      "Name: Madhu\n",
      "Age: 24\n"
     ]
    }
   ],
   "source": [
    "### Creating the private variable\n",
    "### Encapsulation with getter and setter method\n",
    "\n",
    "### Access Modifiers: Public, Protected and Private \n",
    "class Person:\n",
    "    def __init__(self,name,age,gender):\n",
    "        self.__name = name ## Private variable (starts with __)\n",
    "        self.__age = age ## Private variables\n",
    "        self.gender = gender ## public variable\n",
    "    \n",
    "    ## getter method\n",
    "    def get_name_age(self):\n",
    "        print(f\"Name: {self.__name}\")\n",
    "        print(f\"Age: {self.__age}\")\n",
    "\n",
    "person = Person(\"Madhu\",24,\"male\")\n",
    "print(person.gender)\n",
    "# print(person.__name) #This line will give error as name is private variable and we can not access it directly\n",
    "person.get_name_age()\n"
   ]
  },
  {
   "cell_type": "code",
   "execution_count": 6,
   "metadata": {},
   "outputs": [
    {
     "data": {
      "text/plain": [
       "['_Person__age',\n",
       " '_Person__name',\n",
       " '__class__',\n",
       " '__delattr__',\n",
       " '__dict__',\n",
       " '__dir__',\n",
       " '__doc__',\n",
       " '__eq__',\n",
       " '__format__',\n",
       " '__ge__',\n",
       " '__getattribute__',\n",
       " '__gt__',\n",
       " '__hash__',\n",
       " '__init__',\n",
       " '__init_subclass__',\n",
       " '__le__',\n",
       " '__lt__',\n",
       " '__module__',\n",
       " '__ne__',\n",
       " '__new__',\n",
       " '__reduce__',\n",
       " '__reduce_ex__',\n",
       " '__repr__',\n",
       " '__setattr__',\n",
       " '__sizeof__',\n",
       " '__str__',\n",
       " '__subclasshook__',\n",
       " '__weakref__']"
      ]
     },
     "execution_count": 6,
     "metadata": {},
     "output_type": "execute_result"
    }
   ],
   "source": [
    "dir(person)"
   ]
  },
  {
   "cell_type": "code",
   "execution_count": 12,
   "metadata": {},
   "outputs": [
    {
     "name": "stdout",
     "output_type": "stream",
     "text": [
      "Madhuranjan\n"
     ]
    }
   ],
   "source": [
    "### Creating the private variable\n",
    "### Encapsulation with getter and setter method\n",
    "\n",
    "### Access Modifiers: Public, Protected and Private \n",
    "\n",
    "## Proteected\n",
    "class Person:\n",
    "    def __init__(self,name,age,gender):\n",
    "        self._name = name ## Protected variable (starts with _)\n",
    "        self._age = age ## Protected Variable\n",
    "        self.gender = gender ## public variable\n",
    "    \n",
    "    ## getter method\n",
    "    def get_name_age(self):\n",
    "        print(f\"Name: {self._name}\")\n",
    "        print(f\"Age: {self._age}\")\n",
    "\n",
    "class Employee(Person):\n",
    "    def __init__(self,name,age,gender):\n",
    "        super().__init__(name,age,gender)\n",
    "\n",
    "\n",
    "employee= Employee(\"Madhuranjan\",24,\"male\")\n",
    "print(employee._name)"
   ]
  },
  {
   "cell_type": "code",
   "execution_count": 15,
   "metadata": {},
   "outputs": [
    {
     "name": "stdout",
     "output_type": "stream",
     "text": [
      "Madhu\n",
      "24\n",
      "25\n",
      "Madhuranjan\n",
      "Enter valid age\n",
      "25\n"
     ]
    }
   ],
   "source": [
    "### Encapsulation with getter and setter\n",
    "\n",
    "class Person:\n",
    "    def __init__(self,name,age):\n",
    "        self.__name = name ## private access modifiers or variable\n",
    "        self.__age = age\n",
    "\n",
    "\n",
    "    ## getter merhod for name\n",
    "    def get_name(self):\n",
    "        return self.__name\n",
    "    \n",
    "\n",
    "    ## Setter method for name\n",
    "    def set_name(self,name):\n",
    "        self.__name = name\n",
    "\n",
    "    ## Getter method for age\n",
    "    def get_age(self):\n",
    "        return self.__age\n",
    "    \n",
    "    def set_age(self,age):\n",
    "        if age > 0:\n",
    "            self.__age = age\n",
    "        else:\n",
    "            print('Enter valid age')\n",
    "\n",
    "\n",
    "## Access and Modify the private variables using the getter and setter method\n",
    "\n",
    "person = Person(\"Madhu\",24)\n",
    "\n",
    "print(person.get_name())\n",
    "print(person.get_age())\n",
    "\n",
    "person.set_age(25)\n",
    "print(person.get_age())\n",
    "\n",
    "person.set_name(\"Madhuranjan\")\n",
    "print(person.get_name())\n",
    "\n",
    "person.set_age(-10)\n",
    "print(person.get_age())"
   ]
  }
 ],
 "metadata": {
  "kernelspec": {
   "display_name": ".venv",
   "language": "python",
   "name": "python3"
  },
  "language_info": {
   "codemirror_mode": {
    "name": "ipython",
    "version": 3
   },
   "file_extension": ".py",
   "mimetype": "text/x-python",
   "name": "python",
   "nbconvert_exporter": "python",
   "pygments_lexer": "ipython3",
   "version": "3.10.12"
  }
 },
 "nbformat": 4,
 "nbformat_minor": 2
}
