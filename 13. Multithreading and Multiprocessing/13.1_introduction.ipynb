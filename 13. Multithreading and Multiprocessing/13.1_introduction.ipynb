{
 "cells": [
  {
   "cell_type": "markdown",
   "metadata": {},
   "source": [
    "## Multithreading and Multiprocessing\n",
    "- Program\n",
    "- Process\n",
    "- Threads\n",
    "- Examples of Process and Threads"
   ]
  },
  {
   "cell_type": "markdown",
   "metadata": {},
   "source": [
    "### Program\n",
    "A Program is a sequence of instructions written in programming languages (e.g., Python, Java, C/C++, etc).\n",
    "\n",
    "- Eg: \n",
    "    - Google Chrome -> .exe <- Program that decides how the browser should work <br>\n",
    "    - Word <br>\n",
    "    - Excel <br>"
   ]
  },
  {
   "cell_type": "markdown",
   "metadata": {},
   "source": [
    "### Process\n",
    "A Process is simply an instance of a program that is currently being executed\n",
    "\n",
    "<table>\n",
    "<tr>\n",
    "<th>Code Segment</th>\n",
    "<th>Data Segment</th>\n",
    "<th>Heap</th>\n",
    "</tr>\n",
    "<tr>\n",
    "<td>Stack</td>\n",
    "<td>Register</td>\n",
    "</tr>\n",
    "</table>\n",
    "\n",
    "- Sepearete Memory Space\n",
    "    - One process cannot corrupt the another process\n",
    "    - I/O requirements (or any other resouce requirment) will Increase execution time to switch between the processes\n",
    "\n",
    "\n",
    "- Eg,\n",
    "    - Browser\n",
    "    - Excel -> process -> ID\n",
    "    - App -> process"
   ]
  },
  {
   "cell_type": "markdown",
   "metadata": {},
   "source": [
    "### Threads\n",
    "A Thread is a unit of execution within a process.\n",
    "\n",
    "- Types:\n",
    "    - Single Threaded process\n",
    "    - Multi Threaded process"
   ]
  },
  {
   "cell_type": "markdown",
   "metadata": {},
   "source": []
  }
 ],
 "metadata": {
  "language_info": {
   "name": "python"
  }
 },
 "nbformat": 4,
 "nbformat_minor": 2
}
