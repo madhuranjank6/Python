{
 "cells": [
  {
   "cell_type": "markdown",
   "metadata": {},
   "source": [
    "## Generators\n",
    "\n",
    "Generators are simple way to create iterators. They use yield keywords to produce a series of values lazily, which means they generate values on fly and do not store them in memory"
   ]
  },
  {
   "cell_type": "code",
   "execution_count": 20,
   "metadata": {},
   "outputs": [],
   "source": [
    "def square(n):\n",
    "    for i in range(3):\n",
    "        return i**2"
   ]
  },
  {
   "cell_type": "code",
   "execution_count": 21,
   "metadata": {},
   "outputs": [
    {
     "data": {
      "text/plain": [
       "0"
      ]
     },
     "execution_count": 21,
     "metadata": {},
     "output_type": "execute_result"
    }
   ],
   "source": [
    "square(3)"
   ]
  },
  {
   "cell_type": "code",
   "execution_count": 22,
   "metadata": {},
   "outputs": [],
   "source": [
    "## Using yield keywords\n",
    "def square(n):\n",
    "    for i in range(3):\n",
    "        yield i**2"
   ]
  },
  {
   "cell_type": "code",
   "execution_count": 23,
   "metadata": {},
   "outputs": [
    {
     "data": {
      "text/plain": [
       "<generator object square at 0x7e5c3029d7e0>"
      ]
     },
     "execution_count": 23,
     "metadata": {},
     "output_type": "execute_result"
    }
   ],
   "source": [
    "square(3)"
   ]
  },
  {
   "cell_type": "code",
   "execution_count": 24,
   "metadata": {},
   "outputs": [
    {
     "name": "stdout",
     "output_type": "stream",
     "text": [
      "0\n",
      "1\n",
      "4\n"
     ]
    }
   ],
   "source": [
    "for i in square(3):\n",
    "    print(i)"
   ]
  },
  {
   "cell_type": "code",
   "execution_count": 25,
   "metadata": {},
   "outputs": [
    {
     "data": {
      "text/plain": [
       "<generator object square at 0x7e5c3029d9a0>"
      ]
     },
     "execution_count": 25,
     "metadata": {},
     "output_type": "execute_result"
    }
   ],
   "source": [
    "a = square(3)\n",
    "a"
   ]
  },
  {
   "cell_type": "code",
   "execution_count": 26,
   "metadata": {},
   "outputs": [
    {
     "data": {
      "text/plain": [
       "0"
      ]
     },
     "execution_count": 26,
     "metadata": {},
     "output_type": "execute_result"
    }
   ],
   "source": [
    "next(a)"
   ]
  },
  {
   "cell_type": "code",
   "execution_count": 27,
   "metadata": {},
   "outputs": [
    {
     "data": {
      "text/plain": [
       "1"
      ]
     },
     "execution_count": 27,
     "metadata": {},
     "output_type": "execute_result"
    }
   ],
   "source": [
    "next(a)"
   ]
  },
  {
   "cell_type": "code",
   "execution_count": 28,
   "metadata": {},
   "outputs": [
    {
     "data": {
      "text/plain": [
       "4"
      ]
     },
     "execution_count": 28,
     "metadata": {},
     "output_type": "execute_result"
    }
   ],
   "source": [
    "next(a)"
   ]
  },
  {
   "cell_type": "code",
   "execution_count": 29,
   "metadata": {},
   "outputs": [
    {
     "ename": "StopIteration",
     "evalue": "",
     "output_type": "error",
     "traceback": [
      "\u001b[0;31m---------------------------------------------------------------------------\u001b[0m",
      "\u001b[0;31mStopIteration\u001b[0m                             Traceback (most recent call last)",
      "Cell \u001b[0;32mIn[29], line 1\u001b[0m\n\u001b[0;32m----> 1\u001b[0m \u001b[38;5;28;43mnext\u001b[39;49m\u001b[43m(\u001b[49m\u001b[43ma\u001b[49m\u001b[43m)\u001b[49m\n",
      "\u001b[0;31mStopIteration\u001b[0m: "
     ]
    }
   ],
   "source": [
    "next(a)"
   ]
  },
  {
   "cell_type": "code",
   "execution_count": 30,
   "metadata": {},
   "outputs": [],
   "source": [
    "def my_generator():\n",
    "    yield 1\n",
    "    yield 2\n",
    "    yield 3"
   ]
  },
  {
   "cell_type": "code",
   "execution_count": 31,
   "metadata": {},
   "outputs": [
    {
     "data": {
      "text/plain": [
       "<generator object my_generator at 0x7e5c3029dd90>"
      ]
     },
     "execution_count": 31,
     "metadata": {},
     "output_type": "execute_result"
    }
   ],
   "source": [
    "gen = my_generator()\n",
    "gen"
   ]
  },
  {
   "cell_type": "code",
   "execution_count": 32,
   "metadata": {},
   "outputs": [
    {
     "data": {
      "text/plain": [
       "1"
      ]
     },
     "execution_count": 32,
     "metadata": {},
     "output_type": "execute_result"
    }
   ],
   "source": [
    "next(gen)"
   ]
  },
  {
   "cell_type": "code",
   "execution_count": 33,
   "metadata": {},
   "outputs": [
    {
     "data": {
      "text/plain": [
       "2"
      ]
     },
     "execution_count": 33,
     "metadata": {},
     "output_type": "execute_result"
    }
   ],
   "source": [
    "next(gen)"
   ]
  },
  {
   "cell_type": "code",
   "execution_count": 34,
   "metadata": {},
   "outputs": [
    {
     "data": {
      "text/plain": [
       "3"
      ]
     },
     "execution_count": 34,
     "metadata": {},
     "output_type": "execute_result"
    }
   ],
   "source": [
    "next(gen)"
   ]
  },
  {
   "cell_type": "code",
   "execution_count": 35,
   "metadata": {},
   "outputs": [
    {
     "ename": "StopIteration",
     "evalue": "",
     "output_type": "error",
     "traceback": [
      "\u001b[0;31m---------------------------------------------------------------------------\u001b[0m",
      "\u001b[0;31mStopIteration\u001b[0m                             Traceback (most recent call last)",
      "Cell \u001b[0;32mIn[35], line 1\u001b[0m\n\u001b[0;32m----> 1\u001b[0m \u001b[38;5;28;43mnext\u001b[39;49m\u001b[43m(\u001b[49m\u001b[43mgen\u001b[49m\u001b[43m)\u001b[49m\n",
      "\u001b[0;31mStopIteration\u001b[0m: "
     ]
    }
   ],
   "source": [
    "next(gen)"
   ]
  },
  {
   "cell_type": "code",
   "execution_count": 36,
   "metadata": {},
   "outputs": [],
   "source": [
    "for val in gen:\n",
    "    print(val)"
   ]
  },
  {
   "cell_type": "markdown",
   "metadata": {},
   "source": [
    "### Practical Example:\n",
    "\n",
    "#### Reading Large files\n",
    "Generators are particularly useful for reading large files because they allow us to process one line at a time without loading the entire file into the memory"
   ]
  },
  {
   "cell_type": "code",
   "execution_count": 37,
   "metadata": {},
   "outputs": [],
   "source": [
    "#### Reading large files\n",
    "def read_large_files(file_path):\n",
    "    with open(file_path,'r') as file:\n",
    "        for line in file:\n",
    "            yield line"
   ]
  },
  {
   "cell_type": "code",
   "execution_count": 38,
   "metadata": {},
   "outputs": [
    {
     "name": "stdout",
     "output_type": "stream",
     "text": [
      "\n",
      "Main menu\n",
      "\n",
      "WikipediaThe Free Encyclopedia\n",
      "Search Wikipedia\n",
      "Search\n",
      "Create account\n",
      "Log in\n",
      "\n",
      "Personal tools\n",
      "Contents hide\n",
      "(Top)\n",
      "Personal life\n",
      "Early career\n",
      "Political career\n",
      "Governor of Jharkhand (2015–2021)\n",
      "Toggle Governor of Jharkhand (2015–2021) subsection\n",
      "Pathalgadi movement\n",
      "Religion and land bill\n",
      "Presidential campaign\n",
      "Presidency (2022–present)\n",
      "Electoral performance\n",
      "State honours\n",
      "See also\n",
      "Notes\n",
      "References\n",
      "Further reading\n",
      "External links\n",
      "Droupadi Murmu\n",
      "\n",
      "Article\n",
      "Talk\n",
      "Read\n",
      "View source\n",
      "View history\n",
      "\n",
      "Tools\n",
      "Appearance hide\n",
      "Text\n",
      "\n",
      "Small\n",
      "\n",
      "Standard\n",
      "\n",
      "Large\n",
      "Width\n",
      "\n",
      "Standard\n",
      "\n",
      "Wide\n",
      "Page semi-protected\n",
      "From Wikipedia, the free encyclopedia\n",
      "Droupadi Murmu\n",
      "\n",
      "Official portrait, 2022\n",
      "15th President of India\n",
      "Incumbent\n",
      "Assumed office\n",
      "25 July 2022\n",
      "Prime Minister\tNarendra Modi\n",
      "Vice President\n",
      "M. Venkaiah Naidu\n",
      "Jagdeep Dhankhar\n",
      "Preceded by\tRam Nath Kovind\n",
      "8th Governor of Jharkhand\n",
      "In office\n",
      "18 May 2015 – 12 July 2021\n",
      "Chief Ministers\tRaghubar Das\n",
      "Hemant Soren\n",
      "Preceded by\tSyed Ahmed\n",
      "Succeeded by\tRamesh Bais\n",
      "Minister of State, Odisha\n",
      "Independent Charge\n",
      "In office\n",
      "6 August 2002 – 16 May 2004\n",
      "Chief Minister\tNaveen Patnaik\n",
      "Ministry\tFisheries and Animal Resources Development\n",
      "In office\n",
      "6 March 2000 – 6 August 2002\n",
      "Chief Minister\tNaveen Patnaik\n",
      "Ministry\tCommerce and Transport\n",
      "Member of Odisha Legislative Assembly\n",
      "In office\n",
      "5 March 2000 – 21 May 2009\n",
      "Preceded by\tLaxman Majhi\n",
      "Succeeded by\tShyam Charan Hansdah\n",
      "Constituency\tRairangpur\n",
      "Personal details\n",
      "Born\tDurgi Biranchi Tudu\n",
      "20 June 1958 (age 66)\n",
      "Uparbeda, Mayurbhanj, Odisha, India\n",
      "Political party\tBharatiya Janata Party\n",
      "Spouse\tShyam Charan Murmu\n",
      "​\n",
      "​(m. 1980; died 2014)​\n",
      "Children\t3[a]\n",
      "Residence\tRashtrapati Bhawan (primary)\n",
      "Alma mater\tUtkal University (BA)\n",
      "Occupation\tPolitician\n",
      "Profession\tTeacher\n",
      "Website\tOfficial website\n",
      "Droupadi Murmu (née Durgi Biranchi Tudu; born 20 June 1958) is an Indian politician serving as 15th and current president of India since 2022. She won the 2022 presidential election as a candidate of the Bharatiya Janata Party.[2] She is the first person belonging to the Santal tribal community and also the second woman after Pratibha Patil to hold the office. She is also the youngest person to occupy the post (at 64) and the first president born in an independent India.[3][4]\n",
      "\n",
      "Previously, she served as the 8th governor of Jharkhand from 2015 to 2021, being the longest-serving governor for that state. As a member of the Odisha Legislative Assembly from Rairangpur Assembly constituency from 2000 to 2009, and as minister of State (Independent Charge), Government of Odisha from 2000 to 2004. Before entering politics, she worked as a clerk in the State Irrigation and Power Department from 1979 to 1983, and then as a teacher in Rairangpur from 1994 until 1997.[5]\n",
      "\n",
      "Personal life\n",
      "Droupadi Murmu was born to a Santali family on 20 June 1958, in Uparbeda village[6] in the Baidaposi area of Rairangpur, Odisha.[7] Her father Biranchi Narayan Tudu was a farmer.[8] Her father and grandfather were traditional heads (designated Sarpanch) of the village council (Gram Panchayat).[6] Her family named her Durgi Tudu, after her paternal grandmother, and her nickname was Batti which eventually became Puti. She was renamed by her school teacher to Droupadi, and her name was changed several times to those including Durpadi and Dorpdi in the past.[9]\n",
      "\n",
      "Murmu studied elementary education at the local primary school in Upar Beda. At age five, she moved to Bhubaneswar for higher studies.[10] She completed secondary education from Girl's High School Unit-2, and graduated in B.A. from Rama Devi Women's College.[11]\n",
      "\n",
      "She married Shyam Charan Murmu (1 April 1958 – 1 August 2014),[8] a banker,[10] in 1980[12][13] with whom she had two sons and a daughter. Her husband, two sons (Sipun died in a road accident and Laxman died in mysterious circumstances), mother, and a brother all died in a span of 7 years, from 2009 to 2015.[14][15][16] She is a follower of the Brahma Kumaris spiritual movement.[17]\n",
      "\n",
      "Murmu is an admirer of India's first prime minister, Jawaharlal Nehru. She has also hailed Mahatma Gandhi and B. R. Ambedkar.[18][19]\n",
      "\n",
      "Early career\n",
      "From 1979 to 1983, Murmu worked as a junior assistant at the irrigation department of the Government of Odisha. From 1994 to 1997, she then worked as a teacher at the school Sri Aurobindo Integral Education and Research Centre in Rairangpur, where she taught Hindi, Odia, mathematics, and geography.[20][18] She never claimed a full salary at the school.[10]\n",
      "\n",
      "Political career\n",
      "In 1997, Droupadi Murmu was elected as the councillor of the Rairangpur Nagar Panchayat[18] as an independent candidate from a reserved seat for women.[10] She then joined the Bharatiya Janata Party (BJP).[20]\n",
      "\n",
      "She won the 2000 Odisha Legislative Assembly election from the Rairangpur Assembly constituency and served two terms in the Odisha Legislative Assembly between 2000 and 2009.[3] During the BJP and BJD coalition government in Odisha, she was the Minister of State with Independent Charge for Commerce and Transportation from 6 March 2000 to 6 August 2002, and Fisheries and Animal Resources Development from 6 August 2002 to 16 May 2004.[18][21]\n",
      "\n",
      "In 2007, she received the Nilkanth Award for the Best MLA of the Odisha Legislative Assembly.[22] In 2009, she lost the Lok Sabha election from Mayurbhanj Lok Sabha constituency as the BJD and BJP alliance had ended.[18] She was elected to the BJP National Executive (ST Morcha) in 2013, and was the district president until 2015.[22]\n",
      "\n",
      "Governor of Jharkhand (2015–2021)\n",
      "\n",
      "Governor Murmu with Prime Minister Narendra Modi in 2015\n",
      "Murmu was sworn in as the Governor of Jharkhand on 18 May 2015, becoming the first woman to hold the position.[23] The BJP was in power in the Jharkhand Government for most of her six-year tenure as a governor and was also in power in the Union Government throughout her tenure.[24] She administered the oath of office to Hemant Soren as Chief Minister of Jharkhand in 2019.\n",
      "\n",
      "Ratan Tirkey, a former BJP politician and activist, said that Murmu had not done enough to make sure that the self-governance rights granted to tribal communities were properly implemented. These rights were granted under the Fifth Schedule and the Panchayats (Extension to Scheduled Areas) Act, 1996 or PESA. Tirkey said, \"Despite several requests, the then governor never exercised her powers to implement the Fifth Schedule provisions and Pesa in letter and spirit\".[24]\n",
      "\n",
      "Her six-year tenure as Governor began in May 2015 and ended in July 2021.[18]\n",
      "\n",
      "Pathalgadi movement\n",
      "Main article: Pathalgadi movement\n",
      "In 2016–2017, the Raghubar Das ministry was seeking amendments to the Chhotanagpur Tenancy Act, 1908, and the Santhal Pargana Tenancy Act, 1949. These two original laws had safeguarded the rights of tribal communities on their land. According to the existing laws, land transactions could only be done between tribal communities. The new amendments gave the tribals the right to allow the government to make commercial use of tribal land and to take tribal land on lease. The proposed bill amending the existing law had been approved by the Jharkhand Legislative Assembly. The bills were sent to Murmu for approval in November 2016.[24][25]\n",
      "\n",
      "The tribal people had strongly objected to the proposed law. During the Pathalgadi movement, protests were held against the proposed amendments to the tenancy acts.[26] In one incident, the protest turned violent and the tribals abducted the security detail of the BJP Member of Parliament Karia Munda. Police responded with a violent crack-down on tribal communities, that caused the death of a tribal man. Criminal cases were filed against more than 200 people including the tribal rights activist Stan Swamy. Murmu was criticized for her soft stand on police aggression against tribal communities during the movement.[24] According to woman tribal rights activist Aloka Kujur she was expected to speak up to the government in support of the tribals but this did not happen, and instead she appealed to the Pathalgarhi agitation leaders to repose faith in the constitution.[24]\n",
      "\n",
      "\n",
      "Murmu with Vice President M. Venkaiah Naidu in New Delhi in 2017\n",
      "Murmu had received total of 192 memorandums against the amendments in the bill.[24] Then opposition leader Hemant Soren had said that the BJP government wanted to acquire tribal land through the two amendment Bills for the benefit of corporates. Opposition parties Jharkhand Mukti Morcha, the Indian National Congress, the Jharkhand Vikas Morcha and others had put intense pressure against the bill.[26] On 24 May 2017, Murmu relented and refused to give assent to the bills and returned the bill to the state government along with the memorandums she had received. The bill was later withdrawn in August 2017.[24]\n",
      "\n",
      "Religion and land bill\n",
      "In 2017, she approved the Freedom of Religion Bill, 2017, and the bill to amend the Land Acquisition 2013 Act passed by the Jharkhand Assembly.[27]\n",
      "\n",
      "The new religion bill makes it an offence subject to a penalty of three years in prison, to coerce or lure a person to convert their religion. If the person coerced is a member of a Scheduled Caste or Tribe, a minor, or female, the prison term increases to four years. Fines can be levied in any case. The bill also made it mandatory for voluntary converts, to inform the Deputy Commissioner about their conversion, and to give full details about the circumstances.[27]\n",
      "\n",
      "The amendments in the Land Acquisition Act, 2013, involved changes in the compensation duration and requirements for social impacts assessment. According to the passed law, monetary compensation for government acquisition of tribal land must be paid within six months of acquisition. The requirement for social impact assessments was dropped for some types of infrastructure projects.[27]\n",
      "\n",
      "Presidential campaign\n",
      "Main article: 2022 Indian presidential election\n",
      "In June 2022, the BJP nominated Murmu as the National Democratic Alliance (NDA)'s candidate for President of India for the 2022 election the following month. Yashwant Sinha, was nominated as the candidate for president by the opposition parties.[5] During her election campaign, Murmu visited various states seeking support for her candidature. Several opposition parties like BJD, YSRCP, JMM, BSP, SHS, JD(S) among others had announced support for her candidature prior to polling.[28][29] On 21 July 2022, Murmu secured a clear majority in the 2022 Presidential election defeating common opposition candidate Yashwant Sinha with 676,803 electoral votes (64.03% of total) in 21 of the 28 states (including in the union territory of Puducherry) to become the 15th President of India.[30]\n",
      "\n",
      "Presidency (2022–present)\n",
      "\n",
      "This section needs to be updated. Please help update this article to reflect recent events or newly available information. (April 2024)\n",
      "Main article: Presidency of Droupadi Murmu\n",
      "\n",
      "Chief Justice N. V. Ramana administering the oath of office to President-elect Murmu\n",
      "On 26 July 2022, Droupadi Murmu took the oath as the 15th President of India which was administered by the 48th Chief Justice of India N. V. Ramana in the presence of former presidents, the vice president, prime minister, and other delegates.[31]\n",
      "\n",
      "She is the first person from India's designated tribal communities to be elected president.[32][33][3][34] She is the youngest and first individual born after India's independence in 1947 to have been elected president.[35] Murmu is only the second woman after Pratibha Patil to serve as president.[4]\n",
      "\n",
      "\n",
      "Murmu speaking before the 75th Independence Day, August 2022\n",
      "Murmu addressed the nation for the first time as president on 14 August 2022, the eve of the 75th Independence Day.[36]\n",
      "\n",
      "In September 2022, she launched a government program 'Pradhanmantri TB mukht Bharat' – an initiative to eradicate tuberculosis from the country.[37] She became the first President of India to inaugurate the 'Mysuru Dasara', a ten-day state festival in Karnataka.[38] In the initial months, Murmu paid visits to the north-eastern states of the country including Assam, Mizoram, Nagaland and Sikkim and engaged in ceremonies of various development projects.[39]\n",
      "\n",
      "In November 2022, she paid her first visit to her home state Odisha after assuming the office of the President to participate in the launch of various programmes. She visited her alma mater and later met school children along the sideways of the road and walked two kilometers to pay obeisance to the deities of Puri Jagannath Temple.[40]\n",
      "\n",
      "\n",
      "President Murmu at the President's official residence, Rashtrapati Bhavan.\n",
      "In April 2023, she took a historic flight in a Sukhoi Su-30MKI fighter jet at Tezpur Air Station in Assam, the third president ever to fly in a sortie fighter jet. She flew for around 30 minutes over the Brahmaputra and Tezpur valleys also covering the Himalayan ranges. She described it afterwards as an \"exhilarating experience\".[41][42]\n",
      "\n",
      "\n",
      "Droupadi Murmu takes a historic sortie in a Sukhoi Su-30MKI fighter aircraft at the Tezpur Air Force Station.\n",
      "In May 2023, a row arose when the New Parliament House, under the Central Vista Project was inaugurated by Prime Minister Narendra Modi. The opposition demanded it to be inaugurated by Murmu as the constitutional head of state, and boycotted the ceremony. However later, Murmu stated \"Prime Minister symbolises parliament's trust, and she was proud and deeply satisfied with the inauguration\".[43][44]\n",
      "\n",
      "Electoral performance\n",
      "This section is transcluded from Rairangpur Assembly constituency. (edit | history)\n",
      "2000 Odisha Legislative Assembly election, Rairangpur\n",
      "Party\tCandidate\tVotes\t%\t±%\n",
      "BJP\tDroupadi Murmu\t25,110\t34.15\n",
      "INC\tLaxman Majhi\t20542\t27.93\n",
      "JMM\tBraja Mohan Hansdah\t10485\t14.26\n",
      "Majority\t4568\t6.21\n",
      "Turnout\t74997\t59.81\n",
      "Registered electors\t125,385\t[45]\n",
      "BJP gain from INC\n",
      "\n",
      "2004 Odisha Legislative Assembly election, Rairangpur\n",
      "Party\tCandidate\tVotes\t%\t±%\n",
      "BJP\tDroupadi Murmu\t29,295\t32.66\n",
      "JMM\tRam Chandra Murmu\t29253\t32.62\n",
      "INC\tLaxman Majhi\t22551\t25.14\n",
      "Majority\t42\t0.05\n",
      "Turnout\t89689\t68.3\n",
      "Registered electors\t131,315\t[46]\n",
      "BJP hold\n",
      "This section is transcluded from Mayurbhanj (Lok Sabha constituency). (edit | history)\n",
      "In 2009 election, Biju Janata Dal candidate Laxman Tudu defeated Jharkhand Mukti Morcha candidate Sudam Marndi by a margin of 66,178 votes.\n",
      "\n",
      "2009 Indian general elections: Mayurbhanj\n",
      "Party\tCandidate\tVotes\t%\t±%\n",
      "BJD\tLaxman Tudu\t256,648\t31.08\n",
      "JMM\tSudam Marndi\t1,90,470\t23.06\n",
      "BJP\tDroupadi Murmu\t1,50,827\t18.26\n",
      "INC\tLaxman Majhi\t1,40,770\t17.04\n",
      "Independent\tRameswar Majhi\t25,603\t3.10\n",
      "Majority\t66,178\t8.02\n",
      "Turnout\t8,24,754\t70.27\n",
      "BJD gain from JMM\n",
      "This section is transcluded from Rairangpur Assembly constituency. (edit | history)\n",
      "2014 Odisha Legislative Assembly election, Rairangpur\n",
      "Party\tCandidate\tVotes\t%\t±%\n",
      "BJD\tSaiba Sushil Kumar Hansdah\t51,062\t32.72\n",
      "BJP\tDroupadi Murmu\t44,679\t22.76\n",
      "JMM\tPurna Chandra Marndi\t28,838\t18.48\n",
      "INC\tShyam Charan Hansdah\t19,075\t12.22\n",
      "JDP\tBudhan Sing Marndi\t4,848\t3.11\n",
      "Aama Odisha Party\tBirsa Kandakel\t4,245\t2.72\n",
      "Independent\tBada Naran Majhi\t1,563\t1\n",
      "Independent\tBudhu Mahali\t1,412\t0.9\n",
      "NOTA\tNone of the above\t1,096\t0.7\n",
      "Majority\t15,556\t9.96\n",
      "Turnout\t1,56,035\t74.22\n",
      "BJD gain from INC\n",
      "This section is transcluded from 2022 Indian presidential election. (edit | history)\n",
      "Results of the 2022 Indian presidential election[47][48]\n",
      "Candidate\tCoalition\tIndividual\n",
      "votes\tElectoral\n",
      "College votes\t%\n",
      "Droupadi Murmu\tNational Democratic Alliance\t2,824\t676,803\t64.03\n",
      "Yashwant Sinha\tUnited Opposition\t1,877\t380,177\t35.97\n",
      "Valid votes\t4,701\t1,056,980\t98.89\n",
      "Blank and invalid votes\t53\t15,397\t1.11\n",
      "Total\t4,754\t1,072,377\t100\n",
      "Registered voters / Turnout\t4,809\t1,086,431\t98.86\n",
      "State honours\n",
      "Decoration\tCountry\tDate\tNote\tRef.\n",
      "Honorary Order of the Yellow Star\t Suriname\t5 June 2023\tGrand Order Chain, the highest civilian honour of Suriname.\t[49][50]\n",
      "See also\n",
      "List of presidents of India\n",
      "President of India\n",
      "2022 Indian presidential election\n",
      "List of governors of Jharkhand\n",
      "Notes\n",
      "Two are deceased[1]\n",
      "References\n",
      "\"When Droupadi Murmu lost her husband, 2 sons | 5 things to know about her family\". Hindustan Times. 29 August 2022. Archived from the original on 29 August 2022. Retrieved 29 August 2022.\n",
      "\"BJP backs tribal politician for India's president – DW – 07/18/2022\". dw.com. Archived from the original on 5 November 2022. Retrieved 18 December 2023.\n",
      "\"India: Tribal politician Draupadi Murmu wins presidential vote | DW | 21.07.2022\". Deutsche Welle. Archived from the original on 12 October 2022. Retrieved 23 July 2022.\n",
      "\"Droupadi Murmu: India's Youngest President and First to be Born After Independence\". MSN. Archived from the original on 21 July 2022. Retrieved 21 July 2022.\n",
      "\"India: BJP backs tribal politician Draupadi Murmu for president against former ally | DW | 18.07.2022\". Deutsche Welle. Archived from the original on 5 November 2022. Retrieved 22 July 2022.\n",
      "\"Draupadi Murmu, to be the first president to be born after Independence\". The Statesman. 21 July 2022. Archived from the original on 2 August 2022. Retrieved 31 July 2022.\n",
      "\"Droupadi Murmu may soon be the President of India: Know all about her\". India Today. New Delhi. 15 June 2017. Archived from the original on 10 June 2022. Retrieved 20 July 2022.\n",
      "\"Draupadi Murmu: Lesser known facts about the 15th President of India\". The Times of India. 25 July 2022. Archived from the original on 30 July 2022. Retrieved 31 July 2022.\n",
      "\"Name Droupadi was given by my teacher: President Murmu\". telegraphindia.com. 25 July 2022. Archived from the original on 25 July 2022. Retrieved 25 July 2022.\n",
      "Roy, Suryagni (24 June 2022). \"Presidential candidate Droupadi Murmu and Rairangpur connect | IN PICS\". India Today. Archived from the original on 24 December 2022. Retrieved 31 July 2022.\n",
      "Hebbar, Nistula (21 June 2022). \"Droupadi Murmu | The irresistible rise\". The Hindu. ISSN 0971-751X. Archived from the original on 3 June 2023. Retrieved 31 July 2022.\n",
      "\"Draupadi Murmu: Biography, early life, marriage and the story of her dowry\". True Scoop News. 21 July 2022. Archived from the original on 25 July 2022. Retrieved 25 July 2022.\n",
      "\"Who was Shyam Charan, Droupadi Murmus husband?\". Opoyi. 21 July 2022. Archived from the original on 21 July 2022. Retrieved 25 July 2022.\n",
      "\"Who is Droupadi Murmu?\". The Indian Express. 13 June 2017. Archived from the original on 8 April 2019. Retrieved 22 June 2022.\n",
      "\"वियोग से राजयोग तक:बड़े बेटे की मौत से टूट गई थीं द्रौपदी मुर्मू, दो महीने की रोज योग साधना ने डिप्रेशन से उबारा\". Dainik Bhaskar. Archived from the original on 14 August 2023. Retrieved 23 July 2022.\n",
      "\"Droupadi Murmu is India's Youngest, First Tribal President\". Archived from the original on 21 July 2022. Retrieved 21 July 2022.\n",
      "\"How Droupadi Murmu dealt with personal tragedies\". TheWeek. Archived from the original on 22 July 2022. Retrieved 21 July 2022.\n",
      "\"The Sunday Profile | Droupadi Murmu: Raisina Calling\". The Indian Express. 22 July 2022. Archived from the original on 3 June 2023. Retrieved 22 July 2022.\n",
      "\"द्रौपदी मुर्मू जवाहरलाल नेहरू से कितनी प्रभावित रही हैं? कई मौकों पर खुले मंच से कर चुकी हैं तारीफ\". 18 July 2022. Archived from the original on 11 March 2023. Retrieved 11 March 2023.\n",
      "\"Profile:The importance of being Droupadi Murmu\". The Hindu. Archived from the original on 3 June 2023. Retrieved 25 June 2022.\n",
      "\"Droupadi Murmu: India's first tribal president takes oath\". BBC News. 25 July 2022. Archived from the original on 11 May 2023. Retrieved 25 July 2022.\n",
      "\"Know Your President: The life journey of Draupadi Murmu\". DT Next. 21 July 2022. Archived from the original on 22 July 2022. Retrieved 31 July 2022.\n",
      "\"Droupadi Murmu sworn in as first woman Governor of Jharkhand-I News – IBNLive Mobile\". IBN Live. 18 May 2015. Archived from the original on 5 November 2022. Retrieved 18 May 2015.\n",
      "\"Tribal activists expect Droupadi Murmu to be assertive as President\". www.telegraphindia.com. 23 June 2022. Archived from the original on 17 February 2023. Retrieved 21 July 2022.\n",
      "\"Explained: What is the Pathalgadi movement, and what is JMM govt's stand on it?\". The Indian Express. 23 December 2020. Archived from the original on 17 February 2023. Retrieved 21 July 2022.\n",
      "Tewary, Amarnath (13 April 2018). \"The Pathalgadi rebellion\". The Hindu. Archived from the original on 3 June 2023. Retrieved 21 July 2022.\n",
      "Pandey, Prashant (6 September 2017). \"Jharkhand Guv approves Freedom of Religion bill, land act; BJP welcomes move\". The Indian Express. Archived from the original on 17 February 2023. Retrieved 23 July 2022.\n",
      "\"Droupadi Murmu to visit Karnataka today, seek support for presidential polls\". Hindustan Times. 10 July 2022. Archived from the original on 19 July 2022. Retrieved 19 July 2022.\n",
      "\"Murmu to visit Kolkata today to seek support\". The Indian Express. 9 July 2022. Archived from the original on 19 July 2022. Retrieved 19 July 2022.\n",
      "\"Presidential Election 2022 Result Live Updates: Droupadi Murmu makes history, becomes India's first tribal woman President\". The Indian Express. 21 July 2022. Archived from the original on 5 November 2022. Retrieved 21 July 2022.\n",
      "\"Droupadi Murmu takes oath as 15th President of India\". The Economic Times. Archived from the original on 21 May 2023. Retrieved 7 December 2022.\n",
      "\"Will Droupadi Murmu Remain a BJP Electoral Ploy or Help Unseen Adivasis Be Seen at Last?\". The Wire. 22 July 2022. Archived from the original on 8 March 2023. Retrieved 22 July 2022.\n",
      "\"Explained: 5 things to know about Droupadi Murmu, President of India\". The Indian Express. 22 July 2022. Archived from the original on 8 March 2023. Retrieved 22 July 2022.\n",
      "\"India's First Adivasi President Droupadi Murmu may be a star attraction on the World Indigenous Day 2022 - Jharkhand State News\". 22 July 2022. Archived from the original on 8 March 2023. Retrieved 31 July 2022.\n",
      "\"In Droupadi Murmu, India gets its youngest and first president to be born after Independence\". The New Indian Express. 21 July 2022. Archived from the original on 8 March 2023. Retrieved 25 July 2022.\n",
      "\"President Draupadi Murmu delivers her maiden I-Day eve speech | Full text\". Hindustan Times. 14 August 2022. Archived from the original on 1 February 2023. Retrieved 16 August 2022.\n",
      "\"President of India launches Pradhan Mantri TB Mukt Bharat Abhiyaan\". pib.gov.in. Archived from the original on 4 October 2022. Retrieved 12 September 2022.\n",
      "\"President Draupadi Murmu to open Mysuru Dasara this year: CM Bommai\". www.business-standard.com. Press Trust of India. 10 September 2022. Archived from the original on 19 October 2022. Retrieved 12 September 2022.\n",
      "\"President Droupadi Murmu to visit three NE states from November 2 to 5; here is her itinerary\". cnbctv18.com. 2 November 2022. Archived from the original on 3 December 2022. Retrieved 16 November 2022.\n",
      "Barik, Satyasundar (10 November 2022). \"In maiden visit to Odisha as President, Droupadi Murmu walks 2 km to Puri Jagannath temple\". The Hindu. ISSN 0971-751X. Archived from the original on 3 June 2023. Retrieved 16 November 2022.\n",
      "\"Murmu becomes third President to fly a sortie on a Sukhoi fighter jet\". The Hindu. 8 April 2023. ISSN 0971-751X. Archived from the original on 3 June 2023. Retrieved 25 May 2023.\n",
      "\"President Droupadi Murmu takes maiden sortie in Sukhoi 30 MKI fighter jet\". cnbctv18.com. 8 April 2023. Archived from the original on 25 May 2023. Retrieved 25 May 2023.\n",
      "\"'Matter of pride': President Murmu welcomes inauguration of new Parliament building by PM Modi\". Hindustan Times. 28 May 2023. Archived from the original on 30 May 2023. Retrieved 30 May 2023.\n",
      "\"PM symbol of House trust, deeply satisfied he inaugurated it: President\". The Indian Express. 29 May 2023. Archived from the original on 30 May 2023. Retrieved 30 May 2023.\n",
      "\"Odisha Election 2000\". ECI. Retrieved 22 July 2022.\n",
      "\"Odisha Election 2004\". ECI. Retrieved 22 July 2022.\n",
      "\"While President-elect #DroupadiMurmu got a vote in all states, Opposition's Presidential candidate Yashwant Sinha drew a blank in Andhra Pradesh, Nagaland, & Sikkim\". Twitter.com. Retrieved 26 July 2022.\n",
      "\"Number Theory: Comparing Droupadi Murmu's win with her predecessors\". Hindustan Times. 21 July 2022. Retrieved 25 July 2022.\n",
      "\"Suriname confers highest civilian award to President Droupadi Murmu\". ANI. 5 June 2023. Archived from the original on 5 June 2023. Retrieved 5 June 2023.\n",
      "\"Hoogste onderscheiding voor president India\". Suriname Herald. 5 June 2023. Archived from the original on 6 June 2023. Retrieved 5 June 2023.\n",
      "Further reading\n",
      "\"The Sunday Profile | Droupadi Murmu: Raisina Calling\". The Indian Express. 22 July 2022. Archived from the original on 3 June 2023. Retrieved 22 July 2022.\n",
      "Saini, Ajay (2020). \"A Lifeline for the Subaltern: Group Work During the Covid-19 Pandemic in Jharkhand, India\" (PDF). Social Work with Groups. 45 (1): 88–92. doi:10.1080/01609513.2020.1868704. S2CID 234210438. Archived from the original on 25 July 2023. Retrieved 25 July 2023 – via Taylor & Francis.\n",
      "Naik, Smita (2016). Whither Women: A Shift from Endowment to Empowerment. CreateSpace. ISBN 9781523724116.\n",
      "Bhuiyan, Dasarathi (2014). \"Women Politics\". Odisha Review. Archived from the original on 30 September 2022. Retrieved 30 July 2022 – via Academia.edu.\n",
      "External links\n",
      "Media related to Droupadi Murmu at Wikimedia Commons\n",
      "\n",
      "Odisha Legislative Assembly\n",
      "Preceded by\n",
      "Laxman Majhi\n",
      "Member of the Legislative Assembly for Rairangpur\n",
      "2000–2009\tSucceeded by\n",
      "Shyam Charan Hansdah\n",
      "Government offices\n",
      "Preceded by\n",
      "Syed Ahmed\n",
      "Governor of Jharkhand\n",
      "2015–2021\tSucceeded by\n",
      "Ramesh Bais\n",
      "Party political offices\n",
      "Preceded by\n",
      "Ram Nath Kovind\n",
      "National Democratic Alliance nominee for President of India\n",
      "2022\tMost recent\n",
      "Political offices\n",
      "Preceded by\n",
      "Ram Nath Kovind\n",
      "President of India\n",
      "2022–present\tIncumbent\n",
      "vte\n",
      "India Presidents of India\n",
      "vte\n",
      "Governors of Jharkhand\n",
      "vte\n",
      "Current heads of state of republics\n",
      "vte\n",
      "Heads of state of the G20\n",
      "Categories: 1958 birthsLiving people21st-century Indian politicians21st-century Indian women politiciansAdivasi politiciansBharatiya Janata Party politicians from OdishaGovernors of JharkhandOdisha MLAs 2000–2004Odisha MLAs 2004–2009People from Mayurbhanj districtPresidents of IndiaSantali peopleWomen in Odisha politicsWomen presidents in AsiaWomen state governors of India\n",
      "This page was last edited on 5 July 2024, at 10:21 (UTC).\n",
      "Text is available under the Creative Commons Attribution-ShareAlike License 4.0; additional terms may apply. By using this site, you agree to the Terms of Use and Privacy Policy. Wikipedia® is a registered trademark of the Wikimedia Foundation, Inc., a non-profit organization.\n",
      "Privacy policyAbout WikipediaDisclaimersContact WikipediaCode of ConductDevelopersStatisticsCookie statementMobile viewWikimedia FoundationPowered by MediaWiki\n"
     ]
    }
   ],
   "source": [
    "file_path = 'large_file.txt'\n",
    "for line in read_large_files(file_path):\n",
    "    print(line.strip())"
   ]
  },
  {
   "cell_type": "code",
   "execution_count": null,
   "metadata": {},
   "outputs": [],
   "source": []
  }
 ],
 "metadata": {
  "kernelspec": {
   "display_name": ".venv",
   "language": "python",
   "name": "python3"
  },
  "language_info": {
   "codemirror_mode": {
    "name": "ipython",
    "version": 3
   },
   "file_extension": ".py",
   "mimetype": "text/x-python",
   "name": "python",
   "nbconvert_exporter": "python",
   "pygments_lexer": "ipython3",
   "version": "3.10.12"
  }
 },
 "nbformat": 4,
 "nbformat_minor": 2
}
