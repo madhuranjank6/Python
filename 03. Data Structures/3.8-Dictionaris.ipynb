{
 "cells": [
  {
   "cell_type": "markdown",
   "metadata": {},
   "source": [
    "### Dictionaries\n",
    "\n",
    "#### Outline:\n",
    "1. Introduction to Dictionaries\n",
    "2. Creating Dictionaries\n",
    "3. Accessing Dictionary Elements\n",
    "4. Modifying Dictionary Elements\n",
    "5. Dictionary Methods\n",
    "6. Iterating over Dictionaries\n",
    "7. Nested Dictionaries\n",
    "8. Dictionary Comprehension\n",
    "9. Practical examples and Common errors\n",
    "\n",
    "\n",
    "### Introduction to Dictionaries\n",
    "Dcitionaries are the unordered collection of items. They store data in key-value pairs. Keys must be unique and immutable (e.g, strings,numbers, or tuples), while values can be of any type"
   ]
  },
  {
   "cell_type": "code",
   "execution_count": 1,
   "metadata": {},
   "outputs": [
    {
     "name": "stdout",
     "output_type": "stream",
     "text": [
      "<class 'dict'>\n"
     ]
    }
   ],
   "source": [
    "## Creating Dictionary\n",
    "empty_dict = {}\n",
    "print(type(empty_dict))"
   ]
  },
  {
   "cell_type": "code",
   "execution_count": 2,
   "metadata": {},
   "outputs": [
    {
     "name": "stdout",
     "output_type": "stream",
     "text": [
      "<class 'dict'>\n"
     ]
    }
   ],
   "source": [
    "empty_dict = dict()\n",
    "print(type(empty_dict))"
   ]
  },
  {
   "cell_type": "code",
   "execution_count": 3,
   "metadata": {},
   "outputs": [
    {
     "name": "stdout",
     "output_type": "stream",
     "text": [
      "{'name': 'Madhuranjan', 'age': 23, 'grade': 24}\n",
      "<class 'dict'>\n"
     ]
    }
   ],
   "source": [
    "student = {\"name\":\"Madhuranjan\",\n",
    "           \"age\":23,\n",
    "           \"grade\":24\n",
    "           }\n",
    "\n",
    "print(student)\n",
    "print(type(student))"
   ]
  },
  {
   "cell_type": "code",
   "execution_count": 4,
   "metadata": {},
   "outputs": [
    {
     "name": "stdout",
     "output_type": "stream",
     "text": [
      "{'name': '24', 'age': 23, 'grade': 24}\n"
     ]
    }
   ],
   "source": [
    "student = {\"name\":\"Madhuranjan\",\n",
    "           \"age\":23,\n",
    "           \"grade\":24,\n",
    "           \"name\":\"24\"\n",
    "           }\n",
    "print(student)"
   ]
  },
  {
   "cell_type": "code",
   "execution_count": 6,
   "metadata": {},
   "outputs": [
    {
     "name": "stdout",
     "output_type": "stream",
     "text": [
      "A\n",
      "23\n",
      "Madhuranjan\n"
     ]
    }
   ],
   "source": [
    "## Accessing Dictionary elements\n",
    "student = {\"name\":\"Madhuranjan\",\n",
    "           \"age\":23,\n",
    "           \"grade\":'A'\n",
    "           }\n",
    "\n",
    "# accessing  the value of grade\n",
    "print(student['grade'])\n",
    "\n",
    "#Gettign the age of the student\n",
    "print(student['age'])\n",
    "\n",
    "#Accessing the name\n",
    "print(student['name'])"
   ]
  },
  {
   "cell_type": "code",
   "execution_count": 9,
   "metadata": {},
   "outputs": [
    {
     "name": "stdout",
     "output_type": "stream",
     "text": [
      "A\n",
      "None\n"
     ]
    }
   ],
   "source": [
    "## Accessing the values using the get() method\n",
    "\n",
    "print(student.get('grade'))\n",
    "print(student.get('Last_name')) # It will give none as the key is not there in the dictionary"
   ]
  },
  {
   "cell_type": "code",
   "execution_count": 10,
   "metadata": {},
   "outputs": [
    {
     "name": "stdout",
     "output_type": "stream",
     "text": [
      "Not Available\n"
     ]
    }
   ],
   "source": [
    "## setting the default value inside the get() method\n",
    "print(student.get(\"last_name\",\"Not Available\"))"
   ]
  },
  {
   "cell_type": "code",
   "execution_count": 13,
   "metadata": {},
   "outputs": [
    {
     "name": "stdout",
     "output_type": "stream",
     "text": [
      "{'name': 'Madhuranjan', 'age': 24, 'grade': 'A', 'address': 'Kolkata'}\n",
      "{'name': 'Madhuranjan', 'age': 24, 'address': 'Kolkata'}\n"
     ]
    }
   ],
   "source": [
    "## Modifying the dictionary elements\n",
    "## Dictionary are mutable so we can add, update or delete the items\n",
    "print(student)\n",
    "\n",
    "# adding the new key\n",
    "student[\"address\"] = \"Kolkata\"\n",
    "\n",
    "# Modifying the existing key value\n",
    "student['age'] = 24\n",
    "\n",
    "#Deleting the grade key\n",
    "del student['grade']\n",
    "\n",
    "print(student)"
   ]
  },
  {
   "cell_type": "code",
   "execution_count": 14,
   "metadata": {},
   "outputs": [
    {
     "name": "stdout",
     "output_type": "stream",
     "text": [
      "dict_keys(['name', 'age', 'address'])\n",
      "dict_values(['Madhuranjan', 24, 'Kolkata'])\n"
     ]
    }
   ],
   "source": [
    "## Dictionary Methods\n",
    "\n",
    "## getting all the keys of the dictionary\n",
    "keys  =  student.keys()\n",
    "print(keys)\n",
    "values = student.values()\n",
    "print(values)"
   ]
  },
  {
   "cell_type": "code",
   "execution_count": 15,
   "metadata": {},
   "outputs": [
    {
     "name": "stdout",
     "output_type": "stream",
     "text": [
      "dict_items([('name', 'Madhuranjan'), ('age', 24), ('address', 'Kolkata')])\n"
     ]
    }
   ],
   "source": [
    "items = student.items() ## get all key-value pairs\n",
    "print(items)"
   ]
  },
  {
   "cell_type": "code",
   "execution_count": 17,
   "metadata": {},
   "outputs": [
    {
     "name": "stdout",
     "output_type": "stream",
     "text": [
      "{'name': 'Madhuranjan', 'age': 24, 'address': 'Kolkata'}\n",
      "{'name': 'Madhuranjan', 'age': 24, 'address': 'Kolkata'}\n"
     ]
    }
   ],
   "source": [
    "## Shallow copy\n",
    "student_copy = student\n",
    "print(student)\n",
    "print(student_copy)"
   ]
  },
  {
   "cell_type": "code",
   "execution_count": 18,
   "metadata": {},
   "outputs": [
    {
     "name": "stdout",
     "output_type": "stream",
     "text": [
      "{'name': 'Madhuranjan1', 'age': 24, 'address': 'Kolkata'}\n",
      "{'name': 'Madhuranjan1', 'age': 24, 'address': 'Kolkata'}\n"
     ]
    }
   ],
   "source": [
    "student[\"name\"] = \"Madhuranjan1\"\n",
    "\n",
    "print(student)\n",
    "print(student_copy)"
   ]
  },
  {
   "cell_type": "code",
   "execution_count": 19,
   "metadata": {},
   "outputs": [
    {
     "name": "stdout",
     "output_type": "stream",
     "text": [
      "{'name': 'Madhu', 'age': 24, 'address': 'Kolkata'}\n",
      "{'name': 'Madhu', 'age': 24, 'address': 'Kolkata'}\n",
      "{'name': 'Madhuranjan1', 'age': 24, 'address': 'Kolkata'}\n"
     ]
    }
   ],
   "source": [
    "student_copy1 = student.copy() ## Shallow Copy i.e., it will allocate the different memory\n",
    "student['name'] = \"Madhu\"\n",
    "\n",
    "print(student)\n",
    "print(student_copy)\n",
    "print(student_copy1)"
   ]
  },
  {
   "cell_type": "code",
   "execution_count": 22,
   "metadata": {},
   "outputs": [
    {
     "name": "stdout",
     "output_type": "stream",
     "text": [
      "name\n",
      "age\n",
      "address\n",
      "Madhu\n",
      "24\n",
      "Kolkata\n",
      "name:Madhu\n",
      "age:24\n",
      "address:Kolkata\n"
     ]
    }
   ],
   "source": [
    "## Iterating over the dictionaries\n",
    "\n",
    "## We can use loops to iterate over dictionaries, keys, values or items\n",
    "\n",
    "## Iteratating over keys\n",
    "for keys in student.keys():\n",
    "    print(keys)\n",
    "\n",
    "## Iterating over values\n",
    "for val in student.values():\n",
    "    print(val)\n",
    "\n",
    "## Iterating over items\n",
    "for key,value in student.items():\n",
    "    print(f\"{key}:{value}\")\n"
   ]
  },
  {
   "cell_type": "code",
   "execution_count": 23,
   "metadata": {},
   "outputs": [
    {
     "name": "stdout",
     "output_type": "stream",
     "text": [
      "{'student1': {'name': 'Madhu', 'age': 23}, 'student2': {'name': 'Ranjan', 'age': 22}}\n"
     ]
    }
   ],
   "source": [
    "## Nested Dictionaries\n",
    "students = {\n",
    "    \"student1\":{\n",
    "        \"name\":\"Madhu\",\n",
    "        \"age\":23,\n",
    "    },\n",
    "    \"student2\":{\n",
    "        \"name\":\"Ranjan\",\n",
    "        \"age\":22,\n",
    "    }\n",
    "}\n",
    "\n",
    "print(students)"
   ]
  },
  {
   "cell_type": "code",
   "execution_count": 25,
   "metadata": {},
   "outputs": [
    {
     "name": "stdout",
     "output_type": "stream",
     "text": [
      "Madhu\n",
      "23\n"
     ]
    }
   ],
   "source": [
    "## Accessing elements of the nested Dictionaries\n",
    "print(students[\"student1\"][\"name\"])\n",
    "print(students[\"student1\"][\"age\"])"
   ]
  },
  {
   "cell_type": "code",
   "execution_count": 27,
   "metadata": {},
   "outputs": [
    {
     "name": "stdout",
     "output_type": "stream",
     "text": [
      "student1:{'name': 'Madhu', 'age': 23}\n",
      "name:Madhu\n",
      "age:23\n",
      "student2:{'name': 'Ranjan', 'age': 22}\n",
      "name:Ranjan\n",
      "age:22\n"
     ]
    }
   ],
   "source": [
    "## Iterating over the nested dictionaries\n",
    "for student_id,student_info in students.items():\n",
    "    print(f\"{student_id}:{student_info}\")\n",
    "    for key,value in student_info.items():\n",
    "        print(f\"{key}:{value}\")"
   ]
  },
  {
   "cell_type": "code",
   "execution_count": 28,
   "metadata": {},
   "outputs": [
    {
     "name": "stdout",
     "output_type": "stream",
     "text": [
      "{0: 0, 1: 1, 2: 4, 3: 9, 4: 16}\n"
     ]
    }
   ],
   "source": [
    "## Dictionay Comprehension\n",
    "squares = { x:x**2 for x in range(5)}\n",
    "print(squares)"
   ]
  },
  {
   "cell_type": "code",
   "execution_count": 29,
   "metadata": {},
   "outputs": [
    {
     "name": "stdout",
     "output_type": "stream",
     "text": [
      "{0: 0, 2: 4, 4: 16, 6: 36, 8: 64, 10: 100, 12: 144, 14: 196, 16: 256, 18: 324}\n"
     ]
    }
   ],
   "source": [
    "# Finding squares of the even number\n",
    "evens = {x:x**2 for x in range(20) if x%2==0}\n",
    "print(evens)"
   ]
  },
  {
   "cell_type": "markdown",
   "metadata": {},
   "source": [
    "### Practical Examples"
   ]
  },
  {
   "cell_type": "code",
   "execution_count": 30,
   "metadata": {},
   "outputs": [
    {
     "name": "stdout",
     "output_type": "stream",
     "text": [
      "{1: 1, 2: 2, 3: 3, 4: 4}\n"
     ]
    }
   ],
   "source": [
    "## Use a dictionary to count the frequency of elements in list\n",
    "\n",
    "numbers = [1,2,2,3,3,3,4,4,4,4]\n",
    "\n",
    "freq = {}\n",
    "for num in numbers:\n",
    "    if num in freq:\n",
    "        freq[num] = freq[num] + 1\n",
    "    else:\n",
    "        freq[num] = 1\n",
    "\n",
    "print(freq)"
   ]
  },
  {
   "cell_type": "code",
   "execution_count": 31,
   "metadata": {},
   "outputs": [
    {
     "name": "stdout",
     "output_type": "stream",
     "text": [
      "{'a': 1, 'b': 3, 'c': 4}\n"
     ]
    }
   ],
   "source": [
    "## Merge two dictionaries into one\n",
    "dict1 = {\"a\":1,\"b\":2}\n",
    "dict2 = {\"b\":3,\"c\":4}\n",
    "\n",
    "merged_dict = {**dict1,**dict2}\n",
    "\n",
    "print(merged_dict)"
   ]
  },
  {
   "cell_type": "code",
   "execution_count": null,
   "metadata": {},
   "outputs": [],
   "source": []
  }
 ],
 "metadata": {
  "kernelspec": {
   "display_name": ".venv",
   "language": "python",
   "name": "python3"
  },
  "language_info": {
   "codemirror_mode": {
    "name": "ipython",
    "version": 3
   },
   "file_extension": ".py",
   "mimetype": "text/x-python",
   "name": "python",
   "nbconvert_exporter": "python",
   "pygments_lexer": "ipython3",
   "version": "3.10.12"
  }
 },
 "nbformat": 4,
 "nbformat_minor": 2
}
