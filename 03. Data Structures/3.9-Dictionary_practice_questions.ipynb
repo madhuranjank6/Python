{
 "cells": [
  {
   "cell_type": "markdown",
   "metadata": {},
   "source": [
    "# Module 3: Data Structures Assignments\n",
    "## Lesson 3.4: Dictionaries"
   ]
  },
  {
   "cell_type": "markdown",
   "id": "f1369c50",
   "metadata": {},
   "source": [
    "### Assignment 1: Creating and Accessing Dictionaries\n",
    "\n",
    "Create a dictionary with the first 10 positive integers as keys and their squares as values. Print the dictionary."
   ]
  },
  {
   "cell_type": "code",
   "execution_count": 1,
   "metadata": {},
   "outputs": [
    {
     "name": "stdout",
     "output_type": "stream",
     "text": [
      "{1: 1, 2: 4, 3: 9, 4: 16, 5: 25, 6: 36, 7: 49, 8: 64, 9: 81, 10: 100}\n"
     ]
    }
   ],
   "source": [
    "square_dict = {\n",
    "    1:1,\n",
    "    2:4,\n",
    "    3:9,\n",
    "    4:16,\n",
    "    5:25,\n",
    "    6:36,\n",
    "    7:49,\n",
    "    8:64,\n",
    "    9:81,\n",
    "    10:100\n",
    "}\n",
    "\n",
    "print(square_dict)"
   ]
  },
  {
   "cell_type": "markdown",
   "id": "2d6310a9",
   "metadata": {},
   "source": [
    "### Assignment 2: Accessing Dictionary Elements\n",
    "\n",
    "Print the value of the key 5 and the keys of the dictionary created in Assignment 1."
   ]
  },
  {
   "cell_type": "code",
   "execution_count": 3,
   "id": "54569bcb",
   "metadata": {},
   "outputs": [
    {
     "name": "stdout",
     "output_type": "stream",
     "text": [
      "The value of the key 5: 25\n",
      "The value of the key 1: 1\n",
      "The value of the key 2: 4\n",
      "The value of the key 3: 9\n",
      "The value of the key 4: 16\n",
      "The value of the key 6: 36\n",
      "The value of the key 7: 49\n",
      "The value of the key 8: 64\n",
      "The value of the key 9: 81\n",
      "The value of the key 10: 100\n"
     ]
    }
   ],
   "source": [
    "## Printing the value of the key 5\n",
    "print(f\"The value of the key 5: {square_dict.get(5)}\")\n",
    "\n",
    "## Printing the values of the other keys using the for loop\n",
    "for key in  square_dict.keys():\n",
    "    if key == 5:\n",
    "        continue\n",
    "    else:\n",
    "        print(f\"The value of the key {key}: {square_dict.get(key)}\")\n"
   ]
  },
  {
   "cell_type": "markdown",
   "id": "7dd4ae28",
   "metadata": {},
   "source": [
    "### Assignment 3: Dictionary Methods\n",
    "\n",
    "Add a new key-value pair (11, 121) to the dictionary created in Assignment 1 and then remove the key-value pair with key 1. Print the modified dictionary."
   ]
  },
  {
   "cell_type": "code",
   "execution_count": 4,
   "id": "88a8aac5",
   "metadata": {},
   "outputs": [
    {
     "name": "stdout",
     "output_type": "stream",
     "text": [
      "Dictionary after the adding the pair (11,121): {1: 1, 2: 4, 3: 9, 4: 16, 5: 25, 6: 36, 7: 49, 8: 64, 9: 81, 10: 100, 11: 121}\n",
      "Dictionary after removing the key-value pair with key 1: {2: 4, 3: 9, 4: 16, 5: 25, 6: 36, 7: 49, 8: 64, 9: 81, 10: 100, 11: 121}\n"
     ]
    }
   ],
   "source": [
    "## Adding the new key value pair\n",
    "square_dict[11] = 121\n",
    "print(f\"Dictionary after the adding the pair (11,121): {square_dict}\")\n",
    "\n",
    "## Removing the key-pair value for key 1\n",
    "square_dict.pop(1)\n",
    "print(f\"Dictionary after removing the key-value pair with key 1: {square_dict}\")"
   ]
  },
  {
   "cell_type": "markdown",
   "id": "b63be4c2",
   "metadata": {},
   "source": [
    "### Assignment 4: Iterating Over Dictionaries\n",
    "\n",
    "Iterate over the dictionary created in Assignment 1 and print each key-value pair.\n"
   ]
  },
  {
   "cell_type": "code",
   "execution_count": 5,
   "id": "f1c39da8",
   "metadata": {},
   "outputs": [
    {
     "name": "stdout",
     "output_type": "stream",
     "text": [
      "2 : 4\n",
      "3 : 9\n",
      "4 : 16\n",
      "5 : 25\n",
      "6 : 36\n",
      "7 : 49\n",
      "8 : 64\n",
      "9 : 81\n",
      "10 : 100\n",
      "11 : 121\n"
     ]
    }
   ],
   "source": [
    "for key in square_dict.keys():\n",
    "    print(f\"{key} : {square_dict.get(key)}\")"
   ]
  },
  {
   "cell_type": "markdown",
   "id": "4dca19b3",
   "metadata": {},
   "source": [
    "### Assignment 5: Dictionary Comprehensions\n",
    "\n",
    "Create a new dictionary containing the cubes of the first 10 positive integers using a dictionary comprehension. Print the new dictionary."
   ]
  },
  {
   "cell_type": "code",
   "execution_count": 6,
   "id": "250d5512",
   "metadata": {},
   "outputs": [
    {
     "name": "stdout",
     "output_type": "stream",
     "text": [
      "{1: 1, 2: 8, 3: 27, 4: 64, 5: 125, 6: 216, 7: 343, 8: 512, 9: 729, 10: 1000}\n"
     ]
    }
   ],
   "source": [
    "dict_compr = {i:i**3 for i in range(1,11)}\n",
    "print(dict_compr)"
   ]
  },
  {
   "cell_type": "markdown",
   "id": "c4f74d26",
   "metadata": {},
   "source": [
    "### Assignment 6: Merging Dictionaries\n",
    "\n",
    "Create two dictionaries: one with keys as the first 5 positive integers and values as their squares, and another with keys as the next 5 positive integers and values as their squares. Merge these dictionaries into a single dictionary and print it."
   ]
  },
  {
   "cell_type": "code",
   "execution_count": 7,
   "id": "01c2ae6c",
   "metadata": {},
   "outputs": [
    {
     "name": "stdout",
     "output_type": "stream",
     "text": [
      "{1: 1, 2: 4, 3: 9, 4: 16, 5: 25, 6: 36, 7: 49, 8: 64, 9: 81, 10: 100}\n"
     ]
    }
   ],
   "source": [
    "d1 = {i:i**2 for i in range(1,6)}\n",
    "d2 = {i:i**2 for i in range(6,11)}\n",
    "\n",
    "d3 = {**d1,**d2}\n",
    "print(d3)"
   ]
  },
  {
   "cell_type": "markdown",
   "id": "d6bb6616",
   "metadata": {},
   "source": [
    "### Assignment 7: Nested Dictionaries\n",
    "\n",
    "Create a nested dictionary representing a student with keys 'name', 'age', 'grades', where 'grades' is another dictionary with keys 'math', 'science', and 'english'. Print the nested dictionary."
   ]
  },
  {
   "cell_type": "code",
   "execution_count": 8,
   "id": "ec912e19",
   "metadata": {},
   "outputs": [
    {
     "name": "stdout",
     "output_type": "stream",
     "text": [
      "{'name': 'Madhuranjan', 'age': 24, 'grades': {'math': 92, 'Science': 91, 'English': 93}}\n"
     ]
    }
   ],
   "source": [
    "students_dict = {\n",
    "    \"name\": \"Madhuranjan\",\n",
    "    \"age\": 24,\n",
    "    \"grades\":{\n",
    "        \"math\": 92,\n",
    "        \"Science\": 91,\n",
    "        \"English\": 93\n",
    "    }\n",
    "}\n",
    "\n",
    "print(students_dict)"
   ]
  },
  {
   "cell_type": "markdown",
   "id": "539b2786",
   "metadata": {},
   "source": [
    "### Assignment 8: Dictionary of Lists\n",
    "\n",
    "Create a dictionary where the keys are the first 5 positive integers and the values are lists containing the first 5 multiples of the key. Print the dictionary.\n"
   ]
  },
  {
   "cell_type": "code",
   "execution_count": 9,
   "id": "5fd94d3e",
   "metadata": {},
   "outputs": [
    {
     "name": "stdout",
     "output_type": "stream",
     "text": [
      "{1: [1, 2, 3, 4, 5], 2: [2, 4, 6, 8, 10], 3: [3, 6, 9, 12, 15], 4: [4, 8, 12, 16, 20], 5: [5, 10, 15, 20, 25]}\n"
     ]
    }
   ],
   "source": [
    "## Creating the dictionary\n",
    "d = {i : [i*j for j in range(1,6)] for i in range(1,6)}\n",
    "print(d)"
   ]
  },
  {
   "cell_type": "markdown",
   "id": "05c92be9",
   "metadata": {},
   "source": [
    "### Assignment 9: Dictionary of Tuples\n",
    "\n",
    "Create a dictionary where the keys are the first 5 positive integers and the values are tuples containing the key and its square. Print the dictionary.\n"
   ]
  },
  {
   "cell_type": "code",
   "execution_count": 10,
   "id": "0acfdd25",
   "metadata": {},
   "outputs": [
    {
     "name": "stdout",
     "output_type": "stream",
     "text": [
      "{1: (1, 1), 2: (2, 4), 3: (3, 9), 4: (4, 16), 5: (5, 25)}\n"
     ]
    }
   ],
   "source": [
    "tup_dict = {i:(i,i**2) for i in range(1,6)}\n",
    "print(tup_dict)"
   ]
  },
  {
   "cell_type": "markdown",
   "id": "08b43e3e",
   "metadata": {},
   "source": [
    "### Assignment 10: Dictionary and List Conversion\n",
    "\n",
    "Create a dictionary with the first 5 positive integers as keys and their squares as values. Convert the dictionary to a list of tuples and print it."
   ]
  },
  {
   "cell_type": "code",
   "execution_count": 14,
   "id": "b121cf9c",
   "metadata": {},
   "outputs": [
    {
     "name": "stdout",
     "output_type": "stream",
     "text": [
      "[(1, 1), (2, 4), (3, 9), (4, 16), (5, 25)]\n"
     ]
    }
   ],
   "source": [
    "d = {i:i**2 for i in range(1,6)}\n",
    "\n",
    "## Converting the dictionary to the list of tuples\n",
    "l = [(k,d[k]) for k in d.keys()]\n",
    "print(l)"
   ]
  },
  {
   "cell_type": "markdown",
   "id": "e9a6a84a",
   "metadata": {},
   "source": [
    "\n",
    "### Assignment 11: Dictionary Filtering\n",
    "\n",
    "Create a dictionary with the first 10 positive integers as keys and their squares as values. Create a new dictionary containing only the key-value pairs where the key is even. Print the new dictionary.\n"
   ]
  },
  {
   "cell_type": "code",
   "execution_count": 17,
   "id": "8c974558",
   "metadata": {},
   "outputs": [
    {
     "name": "stdout",
     "output_type": "stream",
     "text": [
      "Initial Dictionary: {1: 1, 2: 4, 3: 9, 4: 16, 5: 25, 6: 36, 7: 49, 8: 64, 9: 81, 10: 100}\n",
      "New Dictionary: {2: 4, 4: 16, 6: 36, 8: 64, 10: 100}\n"
     ]
    }
   ],
   "source": [
    "init_dict = {i:i*i for i in range(1,11)}\n",
    "print(f\"Initial Dictionary: {init_dict}\")\n",
    "\n",
    "new_dict = {k:init_dict[k] for k in init_dict.keys() if k %2 == 0}\n",
    "print(f\"New Dictionary: {new_dict}\")"
   ]
  },
  {
   "cell_type": "markdown",
   "id": "85e19708",
   "metadata": {},
   "source": [
    "### Assignment 12: Dictionary Key and Value Transformation\n",
    "\n",
    "Create a dictionary with the first 5 positive integers as keys and their squares as values. Create a new dictionary with keys and values swapped. Print the new dictionary."
   ]
  },
  {
   "cell_type": "code",
   "execution_count": 19,
   "id": "01caceaa",
   "metadata": {},
   "outputs": [
    {
     "name": "stdout",
     "output_type": "stream",
     "text": [
      "Initial Dict: {1: 1, 2: 4, 3: 9, 4: 16, 5: 25}\n",
      "New Dictionary: {1: 1, 4: 2, 9: 3, 16: 4, 25: 5}\n"
     ]
    }
   ],
   "source": [
    "init_dict = {i:i**2 for i in range(1,6)}\n",
    "print(f\"Initial Dict: {init_dict}\")\n",
    "\n",
    "new_dict = {init_dict[k]:k for k in init_dict.keys()}\n",
    "print(f\"New Dictionary: {new_dict}\")"
   ]
  },
  {
   "cell_type": "markdown",
   "id": "c1daf79e",
   "metadata": {},
   "source": [
    "### Assignment 13: Default Dictionary\n",
    "\n",
    "Create a default dictionary where each key has a default value of an empty list. Add some elements to the lists and print the dictionary."
   ]
  },
  {
   "cell_type": "code",
   "execution_count": 20,
   "id": "ca151098",
   "metadata": {},
   "outputs": [
    {
     "name": "stdout",
     "output_type": "stream",
     "text": [
      "Initial Dictionary: {1: [], 2: [], 3: [], 4: [], 5: []}\n",
      "Dictionary after the addition of the values: {1: [1, 2], 2: [1, 2, 3, 4], 3: [1, 2, 3, 4, 5, 6, 7, 8, 9], 4: [1, 2, 3, 4, 5, 6, 7, 8], 5: [1, 2, 3, 4, 5]}\n"
     ]
    }
   ],
   "source": [
    "import random\n",
    "init_dict = {i:[] for i in range(1,6)}\n",
    "print(f\"Initial Dictionary: {init_dict}\")\n",
    "\n",
    "for k in init_dict.keys():\n",
    "    randon_range = random.randint(1,10)\n",
    "    for i in range(1,randon_range):\n",
    "        init_dict[k].append(i)\n",
    "\n",
    "print(f\"Dictionary after the addition of the values: {init_dict}\")"
   ]
  },
  {
   "cell_type": "markdown",
   "id": "aa0c9a3e",
   "metadata": {},
   "source": [
    "### Assignment 14: Counting with Dictionaries\n",
    "\n",
    "Write a function that takes a string and returns a dictionary with the count of each character in the string. Print the dictionary."
   ]
  },
  {
   "cell_type": "code",
   "execution_count": 21,
   "id": "354dc4d2",
   "metadata": {},
   "outputs": [
    {
     "name": "stdout",
     "output_type": "stream",
     "text": [
      "{'a': 2, 'b': 3, 'c': 4}\n",
      "{'a': 1, 'b': 2, 'c': 1, 'd': 1}\n"
     ]
    }
   ],
   "source": [
    "def count_chars(s:str) -> dict:\n",
    "    res_dict = dict()\n",
    "    for i in s:\n",
    "        if i in res_dict.keys():\n",
    "            res_dict[i] += 1\n",
    "        else:\n",
    "            res_dict[i] = 1\n",
    "\n",
    "    return res_dict\n",
    "\n",
    "\n",
    "print(count_chars(\"aabbbcccc\"))\n",
    "print(count_chars(\"abbcd\"))"
   ]
  },
  {
   "cell_type": "markdown",
   "id": "5de1f211",
   "metadata": {},
   "source": [
    "### Assignment 15: Dictionary and JSON\n",
    "\n",
    "Create a dictionary representing a book with keys 'title', 'author', 'year', and 'genre'. Convert the dictionary to a JSON string and print it."
   ]
  },
  {
   "cell_type": "code",
   "execution_count": 25,
   "id": "bf3ca3c2",
   "metadata": {},
   "outputs": [
    {
     "name": "stdout",
     "output_type": "stream",
     "text": [
      "Books Dictionary: {'title': 'Machine Learning with Python', 'author': 'Madhuranjan Kumar', 'year': 2024, 'genre': 'Programming Books'}\n",
      "Json String: {\n",
      "    \"title\": \"Machine Learning with Python\",\n",
      "    \"author\": \"Madhuranjan Kumar\",\n",
      "    \"year\": 2024,\n",
      "    \"genre\": \"Programming Books\"\n",
      "}\n"
     ]
    }
   ],
   "source": [
    "import json\n",
    "books_dict = {\n",
    "    \"title\": \"Machine Learning with Python\",\n",
    "    \"author\": \"Madhuranjan Kumar\",\n",
    "    \"year\":2024,\n",
    "    \"genre\" :\"Programming Books\"\n",
    "}\n",
    "\n",
    "print(f\"Books Dictionary: {books_dict}\")\n",
    "\n",
    "\n",
    "## Converting it to the json\n",
    "json_string = json.dumps(books_dict,indent=4)\n",
    "print(f\"Json String: {json_string}\")"
   ]
  }
 ],
 "metadata": {
  "kernelspec": {
   "display_name": ".venv",
   "language": "python",
   "name": "python3"
  },
  "language_info": {
   "codemirror_mode": {
    "name": "ipython",
    "version": 3
   },
   "file_extension": ".py",
   "mimetype": "text/x-python",
   "name": "python",
   "nbconvert_exporter": "python",
   "pygments_lexer": "ipython3",
   "version": "3.10.12"
  }
 },
 "nbformat": 4,
 "nbformat_minor": 5
}
