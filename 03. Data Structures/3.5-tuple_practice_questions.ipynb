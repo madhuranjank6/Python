{
 "cells": [
  {
   "cell_type": "markdown",
   "id": "6cade624",
   "metadata": {},
   "source": [
    "# Module 3: Data Structures Assignments\n",
    "## Lesson 3.2: Tuples\n",
    "\n",
    "\n",
    "\n",
    "\n",
    "\n",
    "\n",
    "\n",
    "\n",
    "### Assignment 8: Tuple Conversion\n",
    "\n",
    "Convert a list of the first 5 positive integers to a tuple. Print the tuple.\n",
    "\n",
    "### Assignment 9: Tuple of Tuples\n",
    "\n",
    "Create a tuple containing 3 tuples, each with 3 elements. Print the tuple of tuples.\n",
    "\n",
    "### Assignment 10: Tuple and List\n",
    "\n",
    "Create a tuple with the first 5 positive integers. Convert it to a list, append the number 6, and convert it back to a tuple. Print the resulting tuple.\n",
    "\n",
    "### Assignment 11: Tuple and String\n",
    "\n",
    "Create a tuple with the characters of a string. Join the tuple elements into a single string. Print the string.\n",
    "\n",
    "### Assignment 12: Tuple and Dictionary\n",
    "\n",
    "Create a dictionary with tuple keys and integer values. Print the dictionary.\n",
    "\n",
    "### Assignment 13: Nested Tuple Iteration\n",
    "\n",
    "Create a nested tuple and iterate over the elements, printing each element.\n",
    "\n",
    "### Assignment 14: Tuple and Set\n",
    "\n",
    "Create a tuple with duplicate elements. Convert it to a set to remove duplicates and print the resulting set.\n",
    "\n",
    "### Assignment 15: Tuple Functions\n",
    "\n",
    "Write functions that take a tuple and return the minimum, maximum, and sum of the elements. Print the results for a sample tuple."
   ]
  },
  {
   "cell_type": "markdown",
   "id": "3a6cfa70",
   "metadata": {},
   "source": [
    "### Assignment 1: Creating and Accessing Tuples\n",
    "\n",
    "Create a tuple with the first 10 positive integers. Print the tuple."
   ]
  },
  {
   "cell_type": "code",
   "execution_count": 2,
   "id": "dbae5b92",
   "metadata": {},
   "outputs": [
    {
     "name": "stdout",
     "output_type": "stream",
     "text": [
      "(1, 2, 3, 4, 5, 6, 7, 8, 9, 10)\n"
     ]
    }
   ],
   "source": [
    "tup = (1,2,3,4,5,6,7,8,9,10)\n",
    "print(tup)"
   ]
  },
  {
   "cell_type": "markdown",
   "id": "698d8366",
   "metadata": {},
   "source": [
    "### Assignment 2: Accessing Tuple Elements\n",
    "\n",
    "Print the first, middle, and last elements of the tuple created in Assignment 1."
   ]
  },
  {
   "cell_type": "code",
   "execution_count": 4,
   "id": "e88d5a71",
   "metadata": {},
   "outputs": [
    {
     "name": "stdout",
     "output_type": "stream",
     "text": [
      "First Element: 1\n",
      "Middle Element: 6\n",
      "Last Element: 10\n"
     ]
    }
   ],
   "source": [
    "print(f\"First Element: {tup[0]}\")\n",
    "print(F\"Middle Element: {tup[len(tup)//2]}\")\n",
    "print(f\"Last Element: {tup[-1]}\")"
   ]
  },
  {
   "cell_type": "markdown",
   "id": "bb5f2db9",
   "metadata": {},
   "source": [
    "### Assignment 3: Tuple Slicing\n",
    "\n",
    "Print the first three elements, the last three elements, and the elements from index 2 to 5 of the tuple created in Assignment 1."
   ]
  },
  {
   "cell_type": "code",
   "execution_count": 12,
   "id": "7b0203fb",
   "metadata": {},
   "outputs": [
    {
     "name": "stdout",
     "output_type": "stream",
     "text": [
      "First three elements of the tuple are: (1, 2, 3)\n",
      "The last three elements of the tuple are: (7, 8, 9)\n",
      "The elements from the index 2 to 5 in the tuple are: (3, 4, 5)\n"
     ]
    }
   ],
   "source": [
    "print(f\"First three elements of the tuple are: {tup[:3]}\")\n",
    "print(f\"The last three elements of the tuple are: {tup[-4:-1]}\")\n",
    "print(F\"The elements from the index 2 to 5 in the tuple are: {tup[2:5]}\")"
   ]
  },
  {
   "cell_type": "markdown",
   "id": "9707891a",
   "metadata": {},
   "source": [
    "### Assignment 4: Nested Tuples\n",
    "\n",
    "Create a nested tuple representing a 3x3 matrix and print the matrix. Access and print the element at the second row and third column."
   ]
  },
  {
   "cell_type": "code",
   "execution_count": 16,
   "id": "afc98185",
   "metadata": {},
   "outputs": [
    {
     "name": "stdout",
     "output_type": "stream",
     "text": [
      "((1, 2, 3), (4, 5, 6), (7, 8, 9))\n",
      "The element at the second row and the third column is: 6\n"
     ]
    }
   ],
   "source": [
    "nes_tup = ((1,2,3),\n",
    "           (4,5,6),\n",
    "           (7,8,9))\n",
    "\n",
    "print(nes_tup)\n",
    "print(F\"The element at the second row and the third column is: {nes_tup[1][2]}\")\n"
   ]
  },
  {
   "cell_type": "markdown",
   "id": "22bb04bd",
   "metadata": {},
   "source": [
    "### Assignment 5: Tuple Concatenation\n",
    "\n",
    "Concatenate two tuples: (1, 2, 3) and (4, 5, 6). Print the resulting tuple."
   ]
  },
  {
   "cell_type": "code",
   "execution_count": 18,
   "id": "f28a54df",
   "metadata": {},
   "outputs": [
    {
     "name": "stdout",
     "output_type": "stream",
     "text": [
      "(1, 2, 3, 4, 5, 6)\n"
     ]
    }
   ],
   "source": [
    "tup_1 = (1,2,3)\n",
    "tup_2 = (4,5,6)\n",
    "\n",
    "print(tup_1+tup_2)"
   ]
  },
  {
   "cell_type": "markdown",
   "id": "fc6330a8",
   "metadata": {},
   "source": [
    "### Assignment 6: Tuple Methods\n",
    "\n",
    "Create a tuple with duplicate elements and count the occurrences of an element. Find the index of the first occurrence of an element in the tuple."
   ]
  },
  {
   "cell_type": "code",
   "execution_count": 21,
   "id": "55a6eecc",
   "metadata": {},
   "outputs": [
    {
     "name": "stdout",
     "output_type": "stream",
     "text": [
      "The count of the 6 in the tuple: 2\n",
      "The count of the 4 in the tuple: 4\n",
      "The Index of first occurance of the element 4 is: 5\n"
     ]
    }
   ],
   "source": [
    "dup_tuple = (1,1,2,3,3,4,4,4,4,5,6,6)\n",
    "print(f\"The count of the 6 in the tuple: {dup_tuple.count(6)}\")\n",
    "print(f\"The count of the 4 in the tuple: {dup_tuple.count(4)}\")\n",
    "print(f\"The Index of first occurance of the element 4 is: {dup_tuple.index(4)}\")"
   ]
  },
  {
   "cell_type": "markdown",
   "id": "3c058ef1",
   "metadata": {},
   "source": [
    "### Assignment 7: Unpacking Tuples\n",
    "\n",
    "Create a tuple with 5 elements and unpack it into 5 variables. Print the variables."
   ]
  },
  {
   "cell_type": "code",
   "execution_count": null,
   "id": "da49f21a",
   "metadata": {},
   "outputs": [],
   "source": []
  }
 ],
 "metadata": {
  "kernelspec": {
   "display_name": ".venv",
   "language": "python",
   "name": "python3"
  },
  "language_info": {
   "codemirror_mode": {
    "name": "ipython",
    "version": 3
   },
   "file_extension": ".py",
   "mimetype": "text/x-python",
   "name": "python",
   "nbconvert_exporter": "python",
   "pygments_lexer": "ipython3",
   "version": "3.10.12"
  }
 },
 "nbformat": 4,
 "nbformat_minor": 5
}
