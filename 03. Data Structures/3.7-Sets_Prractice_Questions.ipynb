{
 "cells": [
  {
   "cell_type": "markdown",
   "metadata": {},
   "source": [
    "# Module 3: Data Structures Assignments\n",
    "## Lesson 3.3: Sets"
   ]
  },
  {
   "cell_type": "markdown",
   "id": "28a2f40f",
   "metadata": {},
   "source": [
    "### Assignment 1: Creating and Accessing Sets\n",
    "\n",
    "Create a set with the first 10 positive integers. Print the set."
   ]
  },
  {
   "cell_type": "code",
   "execution_count": 3,
   "metadata": {},
   "outputs": [
    {
     "name": "stdout",
     "output_type": "stream",
     "text": [
      "Created Set is: {1, 2, 3, 4, 5, 6, 7, 8, 9, 10}\n",
      "<class 'set'>\n"
     ]
    }
   ],
   "source": [
    "s = {1,2,3,4,5,6,7,8,9,10}\n",
    "print(f\"Created Set is: {s}\")\n",
    "print(type(s))"
   ]
  },
  {
   "cell_type": "markdown",
   "id": "22fdda9c",
   "metadata": {},
   "source": [
    "### Assignment 2: Adding and Removing Elements\n",
    "\n",
    "Add the number 11 to the set created in Assignment 1. Then remove the number 1 from the set. Print the modified set."
   ]
  },
  {
   "cell_type": "code",
   "execution_count": 5,
   "id": "8ee7d158",
   "metadata": {},
   "outputs": [
    {
     "name": "stdout",
     "output_type": "stream",
     "text": [
      "Set after adding the number 11: {1, 2, 3, 4, 5, 6, 7, 8, 9, 10, 11}\n",
      "Set after removing the number 1: {2, 3, 4, 5, 6, 7, 8, 9, 10, 11}\n"
     ]
    }
   ],
   "source": [
    "## Adding the number 11 and removing the number 1 from the created set\n",
    "s.add(11)\n",
    "print(f\"Set after adding the number 11: {s}\")\n",
    "s.remove(1)\n",
    "print(f\"Set after removing the number 1: {s}\")"
   ]
  },
  {
   "cell_type": "markdown",
   "id": "9559b566",
   "metadata": {},
   "source": [
    "### Assignment 3: Set Operations\n",
    "\n",
    "Create two sets: one with the first 5 positive integers and another with the first 5 even integers. Perform and print the results of union, intersection, difference, and symmetric difference operations on these sets."
   ]
  },
  {
   "cell_type": "code",
   "execution_count": 9,
   "id": "dfa08593",
   "metadata": {},
   "outputs": [
    {
     "name": "stdout",
     "output_type": "stream",
     "text": [
      "Union of {1, 2, 3, 4, 5} and {2, 4, 6, 8, 10}: {1, 2, 3, 4, 5, 6, 8, 10}\n",
      "Intersection of {1, 2, 3, 4, 5} and {2, 4, 6, 8, 10}: {2, 4}\n",
      "The difference of {1, 2, 3, 4, 5} and {2, 4, 6, 8, 10}: {1, 3, 5}\n",
      "The symmetric difference of {1, 2, 3, 4, 5} and {2, 4, 6, 8, 10}: {1, 3, 5, 6, 8, 10}\n"
     ]
    }
   ],
   "source": [
    "s_1 = {1,2,3,4,5}\n",
    "s_2 = {2,4,6,8,10}\n",
    "\n",
    "print(f\"Union of {s_1} and {s_2}: {s_1.union(s_2)}\")\n",
    "print(f\"Intersection of {s_1} and {s_2}: {s_1.intersection(s_2)}\")\n",
    "print(f\"The difference of {s_1} and {s_2}: {s_1.difference(s_2)}\")\n",
    "print(f\"The symmetric difference of {s_1} and {s_2}: {s_1.symmetric_difference(s_2)}\")"
   ]
  },
  {
   "cell_type": "markdown",
   "id": "dd5aa7f9",
   "metadata": {},
   "source": [
    "### Assignment 4: Set Comprehensions\n",
    "\n",
    "Create a new set containing the squares of the first 10 positive integers using a set comprehension. Print the new set."
   ]
  },
  {
   "cell_type": "code",
   "execution_count": 12,
   "id": "83f3f756",
   "metadata": {},
   "outputs": [
    {
     "name": "stdout",
     "output_type": "stream",
     "text": [
      "{64, 1, 4, 36, 100, 9, 16, 49, 81, 25}\n"
     ]
    }
   ],
   "source": [
    "set_comp = {i**2 for i in range(1,11)}\n",
    "print(set_comp)"
   ]
  },
  {
   "cell_type": "markdown",
   "id": "849fb0b2",
   "metadata": {},
   "source": [
    "### Assignment 5: Filtering Sets\n",
    "\n",
    "Create a new set containing only the even numbers from the set created in Assignment 1 using a set comprehension. Print the new set."
   ]
  },
  {
   "cell_type": "code",
   "execution_count": 13,
   "id": "abdeeb88",
   "metadata": {},
   "outputs": [
    {
     "name": "stdout",
     "output_type": "stream",
     "text": [
      "{2, 4, 6, 8, 10}\n"
     ]
    }
   ],
   "source": [
    "even_set = {i for i in s if i%2==0}\n",
    "print(even_set)"
   ]
  },
  {
   "cell_type": "markdown",
   "id": "e6013d9f",
   "metadata": {},
   "source": [
    "### Assignment 6: Set Methods\n",
    "\n",
    "Create a list with duplicate elements and remove the duplicates using set methods. Print the modified set."
   ]
  },
  {
   "cell_type": "code",
   "execution_count": 15,
   "id": "ba5aebf0",
   "metadata": {},
   "outputs": [
    {
     "name": "stdout",
     "output_type": "stream",
     "text": [
      "Dunplicate list: [1, 1, 2, 2, 3, 4, 4, 5, 5, 5, 5, 6]\n",
      "Set after removing the duplicates from the list: {1, 2, 3, 4, 5, 6}\n"
     ]
    }
   ],
   "source": [
    "duplicate_list = [1,1,2,2,3,4,4,5,5,5,5,6]\n",
    "print(f\"Dunplicate list: {duplicate_list}\")\n",
    "##Making the unique set\n",
    "unique_set = set(duplicate_list)\n",
    "print(f\"Set after removing the duplicates from the list: {unique_set}\")"
   ]
  },
  {
   "cell_type": "markdown",
   "id": "c16862c0",
   "metadata": {},
   "source": [
    "### Assignment 7: Subsets and Supersets\n",
    "\n",
    "Create two sets: one with the first 5 positive integers and another with the first 3 positive integers. Check if the second set is a subset of the first set and if the first set is a superset of the second set. Print the results."
   ]
  },
  {
   "cell_type": "code",
   "execution_count": 17,
   "id": "ce660e25",
   "metadata": {},
   "outputs": [
    {
     "name": "stdout",
     "output_type": "stream",
     "text": [
      "{1, 2, 3} is the subset of {1, 2, 3, 4, 5}: True\n",
      "{1, 2, 3, 4, 5} is the Superset of {1, 2, 3}: True\n"
     ]
    }
   ],
   "source": [
    "s_1 = {1,2,3,4,5}\n",
    "s_2 = {1,2,3}\n",
    "\n",
    "print(f\"{s_2} is the subset of {s_1}: {s_2.issubset(s_1)}\")\n",
    "print(f\"{s_1} is the Superset of {s_2}: {s_1.issuperset(s_2)}\")"
   ]
  },
  {
   "cell_type": "markdown",
   "id": "1e095da4",
   "metadata": {},
   "source": [
    "### Assignment 8: Frozenset\n",
    "\n",
    "Create a frozenset with the first 5 positive integers. Print the frozenset."
   ]
  },
  {
   "cell_type": "code",
   "execution_count": 18,
   "id": "6c11ad7c",
   "metadata": {},
   "outputs": [
    {
     "name": "stdout",
     "output_type": "stream",
     "text": [
      "Frozen Set: frozenset({1, 2, 3, 4, 5, 6})\n"
     ]
    }
   ],
   "source": [
    "f_set_elements = [1,2,3,4,5,6]\n",
    "f_set = frozenset(f_set_elements)\n",
    "\n",
    "print(f\"Frozen Set: {f_set}\")"
   ]
  },
  {
   "cell_type": "markdown",
   "id": "aa176010",
   "metadata": {},
   "source": [
    "### Assignment 9: Set and List Conversion\n",
    "\n",
    "Create a set with the first 5 positive integers. Convert it to a list, append the number 6, and convert it back to a set. Print the resulting set."
   ]
  },
  {
   "cell_type": "code",
   "execution_count": 19,
   "id": "3abac8a2",
   "metadata": {},
   "outputs": [
    {
     "name": "stdout",
     "output_type": "stream",
     "text": [
      "{1, 2, 3, 4, 5, 6}\n"
     ]
    }
   ],
   "source": [
    "s = {1,2,3,4,5}\n",
    "##Converting the set to the list\n",
    "l = list(s)\n",
    "## Appending the element 6 to the list\n",
    "l.append(6)\n",
    "## Connverting it back to the set\n",
    "s = set(l)\n",
    "print(s)"
   ]
  },
  {
   "cell_type": "markdown",
   "id": "db635c39",
   "metadata": {},
   "source": [
    "### Assignment 10: Set and Dictionary\n",
    "\n",
    "Create a dictionary with set keys and integer values. Print the dictionary."
   ]
  },
  {
   "cell_type": "code",
   "execution_count": 21,
   "id": "53e3d110",
   "metadata": {},
   "outputs": [
    {
     "ename": "TypeError",
     "evalue": "unhashable type: 'set'",
     "output_type": "error",
     "traceback": [
      "\u001b[0;31m---------------------------------------------------------------------------\u001b[0m",
      "\u001b[0;31mTypeError\u001b[0m                                 Traceback (most recent call last)",
      "Cell \u001b[0;32mIn[21], line 1\u001b[0m\n\u001b[0;32m----> 1\u001b[0m set_dict \u001b[38;5;241m=\u001b[39m {\n\u001b[1;32m      2\u001b[0m     {\u001b[38;5;241m1\u001b[39m,\u001b[38;5;241m2\u001b[39m}: \u001b[38;5;241m3\u001b[39m,\n\u001b[1;32m      3\u001b[0m     {\u001b[38;5;241m4\u001b[39m,\u001b[38;5;241m5\u001b[39m}: \u001b[38;5;241m6\u001b[39m,\n\u001b[1;32m      4\u001b[0m     {\u001b[38;5;241m7\u001b[39m,\u001b[38;5;241m8\u001b[39m}: \u001b[38;5;241m9\u001b[39m,\n\u001b[1;32m      5\u001b[0m }\n\u001b[1;32m      7\u001b[0m \u001b[38;5;28mprint\u001b[39m(set_dict)\n",
      "\u001b[0;31mTypeError\u001b[0m: unhashable type: 'set'"
     ]
    }
   ],
   "source": [
    "set_dict = {\n",
    "    {1,2}: 3,\n",
    "    {4,5}: 6,\n",
    "    {7,8}: 9,\n",
    "}\n",
    "\n",
    "print(set_dict)"
   ]
  },
  {
   "cell_type": "markdown",
   "id": "732fb62a",
   "metadata": {},
   "source": [
    "### Assignment 11: Iterating Over Sets\n",
    "\n",
    "Create a set and iterate over the elements, printing each element."
   ]
  },
  {
   "cell_type": "code",
   "execution_count": 25,
   "id": "cb43f96e",
   "metadata": {},
   "outputs": [
    {
     "name": "stdout",
     "output_type": "stream",
     "text": [
      "1 2 3 4 5 6 7 8 9 10 "
     ]
    }
   ],
   "source": [
    "s = {1,2,3,4,5,6,7,8,9,10}\n",
    "for i in s:\n",
    "    print(i,end=\" \")"
   ]
  },
  {
   "cell_type": "markdown",
   "id": "65c6cb2e",
   "metadata": {},
   "source": [
    "\n",
    "### Assignment 12: Removing Elements from Sets\n",
    "\n",
    "Create a set and remove elements from it until it is empty. Print the set after each removal."
   ]
  },
  {
   "cell_type": "code",
   "execution_count": 26,
   "id": "be8163d3",
   "metadata": {},
   "outputs": [
    {
     "name": "stdout",
     "output_type": "stream",
     "text": [
      "Initial Set: {1, 2, 3, 4, 5, 6, 7, 8, 9, 10}\n",
      "set after removing element: {2, 3, 4, 5, 6, 7, 8, 9, 10}\n",
      "set after removing element: {3, 4, 5, 6, 7, 8, 9, 10}\n",
      "set after removing element: {4, 5, 6, 7, 8, 9, 10}\n",
      "set after removing element: {5, 6, 7, 8, 9, 10}\n",
      "set after removing element: {6, 7, 8, 9, 10}\n",
      "set after removing element: {7, 8, 9, 10}\n",
      "set after removing element: {8, 9, 10}\n",
      "set after removing element: {9, 10}\n",
      "set after removing element: {10}\n",
      "set after removing element: set()\n"
     ]
    }
   ],
   "source": [
    "s = {1,2,3,4,5,6,7,8,9,10}\n",
    "print(f\"Initial Set: {s}\")\n",
    "while len(s) != 0:\n",
    "    s.pop()\n",
    "    print(f\"set after removing element: {s}\")"
   ]
  },
  {
   "cell_type": "markdown",
   "id": "5a7c2e89",
   "metadata": {},
   "source": [
    "### Assignment 13: Set Symmetric Difference Update\n",
    "\n",
    "Create two sets and update the first set with the symmetric difference of the two sets. Print the modified first set."
   ]
  },
  {
   "cell_type": "code",
   "execution_count": 28,
   "id": "8d67c249",
   "metadata": {},
   "outputs": [
    {
     "name": "stdout",
     "output_type": "stream",
     "text": [
      "First Set: {1, 2, 3, 4, 5}\n",
      "Second Set: {2, 4, 6, 8, 10}\n",
      "First set after adding the symmetric difference: {1, 2, 3, 4, 5, 6, 8, 10}\n"
     ]
    }
   ],
   "source": [
    "s_1 = {1,2,3,4,5}\n",
    "s_2 = {2,4,6,8,10}\n",
    "\n",
    "print(f\"First Set: {s_1}\")\n",
    "print(f\"Second Set: {s_2}\")\n",
    "\n",
    "symm_diff = s_1.symmetric_difference(s_2)\n",
    "for i in symm_diff:\n",
    "    s_1.add(i)\n",
    "\n",
    "\n",
    "print(f\"First set after adding the symmetric difference: {s_1}\")"
   ]
  },
  {
   "cell_type": "markdown",
   "id": "4d8d1bfe",
   "metadata": {},
   "source": [
    "### Assignment 14: Set Membership Testing\n",
    "\n",
    "Create a set and test if certain elements are present in the set. Print the results."
   ]
  },
  {
   "cell_type": "code",
   "execution_count": 29,
   "id": "47acf915",
   "metadata": {},
   "outputs": [
    {
     "name": "stdout",
     "output_type": "stream",
     "text": [
      "3 is present in set {1, 2, 3, 4, 5, 6}: True\n",
      "4 is present in set {1, 2, 3, 4, 5, 6}: True\n",
      "5 is present in set {1, 2, 3, 4, 5, 6}: True\n",
      "6 is present in set {1, 2, 3, 4, 5, 6}: True\n",
      "7 is present in set {1, 2, 3, 4, 5, 6}: False\n",
      "8 is present in set {1, 2, 3, 4, 5, 6}: False\n",
      "9 is present in set {1, 2, 3, 4, 5, 6}: False\n"
     ]
    }
   ],
   "source": [
    "s = {1,2,3,4,5,6}\n",
    "for i in range(3,10):\n",
    "    print(f\"{i} is present in set {s}: {i in s}\")"
   ]
  },
  {
   "cell_type": "markdown",
   "id": "fb6aebc2",
   "metadata": {},
   "source": [
    "### Assignment 15: Set of Tuples\n",
    "\n",
    "Create a set containing tuples, where each tuple contains two elements. Print the set."
   ]
  },
  {
   "cell_type": "code",
   "execution_count": 30,
   "id": "6e02e6e9",
   "metadata": {},
   "outputs": [
    {
     "name": "stdout",
     "output_type": "stream",
     "text": [
      "{(1, 2), (3, 4), (7, 8), (5, 6)}\n"
     ]
    }
   ],
   "source": [
    "s = {(1,2),(3,4),(5,6),(7,8)}\n",
    "print(s)"
   ]
  }
 ],
 "metadata": {
  "kernelspec": {
   "display_name": ".venv",
   "language": "python",
   "name": "python3"
  },
  "language_info": {
   "codemirror_mode": {
    "name": "ipython",
    "version": 3
   },
   "file_extension": ".py",
   "mimetype": "text/x-python",
   "name": "python",
   "nbconvert_exporter": "python",
   "pygments_lexer": "ipython3",
   "version": "3.10.12"
  }
 },
 "nbformat": 4,
 "nbformat_minor": 5
}
