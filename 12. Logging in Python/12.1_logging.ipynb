{
 "cells": [
  {
   "cell_type": "markdown",
   "metadata": {},
   "source": [
    "## Python Logging\n",
    "\n",
    "Logging is crucial aspect of any application, providding a way to track events, errors, and operational information. Python's built-in logging module offers a flexible framework for emitting log messages from Python programs. In this notebeeok, we will cover the basics of logging, including how to configure logging, log levels, and best practices for using logging in python applications."
   ]
  },
  {
   "cell_type": "code",
   "execution_count": 1,
   "metadata": {},
   "outputs": [
    {
     "name": "stderr",
     "output_type": "stream",
     "text": [
      "DEBUG:root:This is a Debug Message\n",
      "INFO:root:This is the info messages\n",
      "WARNING:root:This is a warning message\n",
      "ERROR:root:This is an error message\n",
      "CRITICAL:root:This is a critical message\n"
     ]
    }
   ],
   "source": [
    "import logging\n",
    "\n",
    "## Configuring the basic logging setup\n",
    "logging.basicConfig(level=logging.DEBUG)\n",
    "\n",
    "## Logging messages\n",
    "logging.debug(\"This is a Debug Message\")\n",
    "logging.info(\"This is the info messages\")\n",
    "logging.warning(\"This is a warning message\")\n",
    "logging.error(\"This is an error message\")\n",
    "logging.critical(\"This is a critical message\")"
   ]
  },
  {
   "cell_type": "markdown",
   "metadata": {},
   "source": [
    "## Log Levels\n",
    "Python's logging module has several log levels indicating the severity of events. The default levels are:\n",
    "- DEBUG: Detailed information, typically of interest only when diagonising problems.\n",
    "- INFO: Confirmation that things are working as expected\n",
    "- WARNING: An indication that something unexpected happened or indicative of some problems in the near future (e.g., 'disk space low'). The application is still working as expected\n",
    "- ERROR: Due to a more serious problem, the application has not been able to perform some of the functions\n",
    "- CRITICAL: A very serious error, indicating that the program itself may be unable to continue running"
   ]
  },
  {
   "cell_type": "code",
   "execution_count": 1,
   "metadata": {},
   "outputs": [],
   "source": [
    "import logging\n",
    "## Configuring the logging\n",
    "logging.basicConfig(\n",
    "    filename='app.log',\n",
    "    filemode='w',\n",
    "    level=logging.DEBUG,\n",
    "    format='%(asctime)s-%(name)s-%(levelname)s-%(message)s',\n",
    "    datefmt='%Y-%m-%d %H:%M:%S'\n",
    ")\n",
    "\n",
    "## Logging messages\n",
    "logging.debug(\"This is a Debug Message\")\n",
    "logging.info(\"This is the info messages\")\n",
    "logging.warning(\"This is a warning message\")\n",
    "logging.error(\"This is an error message\")\n",
    "logging.critical(\"This is a critical message\")"
   ]
  },
  {
   "cell_type": "code",
   "execution_count": null,
   "metadata": {},
   "outputs": [],
   "source": []
  }
 ],
 "metadata": {
  "kernelspec": {
   "display_name": ".venv",
   "language": "python",
   "name": "python3"
  },
  "language_info": {
   "codemirror_mode": {
    "name": "ipython",
    "version": 3
   },
   "file_extension": ".py",
   "mimetype": "text/x-python",
   "name": "python",
   "nbconvert_exporter": "python",
   "pygments_lexer": "ipython3",
   "version": "3.10.12"
  }
 },
 "nbformat": 4,
 "nbformat_minor": 2
}
