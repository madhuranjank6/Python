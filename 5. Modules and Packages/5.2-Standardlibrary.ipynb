{
 "cells": [
  {
   "cell_type": "markdown",
   "metadata": {},
   "source": [
    "## Standard Library Overview\n",
    "\n",
    "Python's Standard library is a vast collection of modules and packages that come bundled with python, providing a wide range of functionalities out of the box. Here's an overview of some of the most commonly used modules and packages in the Python Standard Library."
   ]
  },
  {
   "cell_type": "code",
   "execution_count": 1,
   "metadata": {},
   "outputs": [
    {
     "name": "stdout",
     "output_type": "stream",
     "text": [
      "array('i', [1, 2, 3, 4])\n"
     ]
    }
   ],
   "source": [
    "## array library\n",
    "\n",
    "import array\n",
    "\n",
    "\n",
    "arr = array.array('i',[1,2,3,4])\n",
    "print(arr)"
   ]
  },
  {
   "cell_type": "code",
   "execution_count": 2,
   "metadata": {},
   "outputs": [
    {
     "name": "stdout",
     "output_type": "stream",
     "text": [
      "4.0\n",
      "3.141592653589793\n"
     ]
    }
   ],
   "source": [
    "import math\n",
    "\n",
    "print(math.sqrt(16))\n",
    "print(math.pi)"
   ]
  },
  {
   "cell_type": "code",
   "execution_count": 6,
   "metadata": {},
   "outputs": [
    {
     "name": "stdout",
     "output_type": "stream",
     "text": [
      "17\n",
      "orange\n"
     ]
    }
   ],
   "source": [
    "import random\n",
    "\n",
    "print(random.randint(10,20))\n",
    "print(random.choice(['apple','banana','orange']))"
   ]
  },
  {
   "cell_type": "code",
   "execution_count": 8,
   "metadata": {},
   "outputs": [
    {
     "name": "stdout",
     "output_type": "stream",
     "text": [
      "/home/madhuranjan_kumar/Desktop/Krish_Naik_Udemy/Machine_Learning_NLP_Bootcamp/Python/5. Modules and Packages\n"
     ]
    }
   ],
   "source": [
    "### File and Directory access using os librabry\n",
    "\n",
    "import os\n",
    "\n",
    "print(os.getcwd()) # for printing the current working directory\n",
    "\n",
    "#creating the text directory\n",
    "os.mkdir('test_dir')"
   ]
  },
  {
   "cell_type": "code",
   "execution_count": 9,
   "metadata": {},
   "outputs": [
    {
     "data": {
      "text/plain": [
       "'destination.txt'"
      ]
     },
     "execution_count": 9,
     "metadata": {},
     "output_type": "execute_result"
    }
   ],
   "source": [
    "## high level operations on files and the collecton of files\n",
    "import shutil\n",
    "\n",
    "#copying the file\n",
    "shutil.copyfile('source.txt','destination.txt')\n"
   ]
  },
  {
   "cell_type": "code",
   "execution_count": 11,
   "metadata": {},
   "outputs": [
    {
     "name": "stdout",
     "output_type": "stream",
     "text": [
      "{\"name\": \"madhu\", \"age\": 23}\n",
      "<class 'str'>\n",
      "{'name': 'madhu', 'age': 23}\n",
      "<class 'dict'>\n"
     ]
    }
   ],
   "source": [
    "## Data serialization\n",
    "import json\n",
    "\n",
    "data = {'name':'madhu','age':23}\n",
    "json_str = json.dumps(data)\n",
    "print(json_str)\n",
    "print(type(json_str)) # str\n",
    "\n",
    "parsed_data = json.loads(json_str)\n",
    "print(parsed_data)\n",
    "print(type(parsed_data))\n"
   ]
  },
  {
   "cell_type": "code",
   "execution_count": 12,
   "metadata": {},
   "outputs": [
    {
     "name": "stdout",
     "output_type": "stream",
     "text": [
      "['name', 'age']\n",
      "['Madhu', '23']\n",
      "['Ranjan', '24']\n"
     ]
    }
   ],
   "source": [
    "## Csv\n",
    "import csv\n",
    "\n",
    "with open('example.csv',mode='w',newline='') as f:\n",
    "    writer = csv.writer(f)\n",
    "    writer.writerow(['name','age'])\n",
    "    writer.writerow(['Madhu',23])\n",
    "    writer.writerow(['Ranjan',24])\n",
    "\n",
    "with open('example.csv',mode='r') as f:\n",
    "    reader = csv.reader(f)\n",
    "    for row in reader:\n",
    "        print(row)\n",
    "\n"
   ]
  },
  {
   "cell_type": "code",
   "execution_count": 14,
   "metadata": {},
   "outputs": [
    {
     "name": "stdout",
     "output_type": "stream",
     "text": [
      "2024-07-05 17:17:01.892879\n",
      "2024-07-04 17:17:01.892879\n"
     ]
    }
   ],
   "source": [
    "# datetiem library\n",
    "from datetime import datetime, timedelta\n",
    "\n",
    "current_time = datetime.now()\n",
    "print(current_time)\n",
    "\n",
    "yesterday = current_time -timedelta(days=1)\n",
    "print(yesterday)"
   ]
  },
  {
   "cell_type": "code",
   "execution_count": 16,
   "metadata": {},
   "outputs": [
    {
     "name": "stdout",
     "output_type": "stream",
     "text": [
      "1720180097.0116882\n",
      "1720180099.0130613\n"
     ]
    }
   ],
   "source": [
    "## time\n",
    "import time\n",
    "\n",
    "print(time.time())\n",
    "time.sleep(2)\n",
    "print(time.time())"
   ]
  },
  {
   "cell_type": "code",
   "execution_count": 18,
   "metadata": {},
   "outputs": [
    {
     "name": "stdout",
     "output_type": "stream",
     "text": [
      "123\n"
     ]
    }
   ],
   "source": [
    "## Regular Expression\n",
    "\n",
    "import re\n",
    "pattern = r'\\d+'\n",
    "text = 'there are 123 apples'\n",
    "match = re.search(pattern,text)\n",
    "print(match.group())"
   ]
  },
  {
   "cell_type": "markdown",
   "metadata": {},
   "source": [
    "### Conclusion\n",
    "\n",
    "Python's Standard library is extensive and provides tools for almost any task we can think of, from file handling to web services, from data serialization to concurrent execution. Familiarizing ourself with the modules and packages available in the standard library can significantly enhance our ability to write efficient and effective python programs"
   ]
  }
 ],
 "metadata": {
  "kernelspec": {
   "display_name": ".venv",
   "language": "python",
   "name": "python3"
  },
  "language_info": {
   "codemirror_mode": {
    "name": "ipython",
    "version": 3
   },
   "file_extension": ".py",
   "mimetype": "text/x-python",
   "name": "python",
   "nbconvert_exporter": "python",
   "pygments_lexer": "ipython3",
   "version": "3.10.12"
  }
 },
 "nbformat": 4,
 "nbformat_minor": 2
}
