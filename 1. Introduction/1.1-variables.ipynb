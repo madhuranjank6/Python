{
 "cells": [
  {
   "cell_type": "markdown",
   "metadata": {},
   "source": [
    "### Variables\n",
    "Variables are the fundamental unit in programming used to store data that can be referenced and manipulated in a program. In python, Variables are created when we assign avalue to them, and they do not need explicit declaration to reserve memory space. The declaration happens automatically when you assign a value to a variable\n",
    "\n",
    "Outline:\n",
    "* Introduction to Variables\n",
    "* Declaring and assigning values to the variables\n",
    "* Naming Conventions\n",
    "* Understanding Variables types\n",
    "* Type checking and conversion\n",
    "* Dynamic Typing\n",
    "* Practical Examples and Common Errors"
   ]
  },
  {
   "cell_type": "code",
   "execution_count": 1,
   "metadata": {},
   "outputs": [
    {
     "name": "stdout",
     "output_type": "stream",
     "text": [
      "100\n"
     ]
    }
   ],
   "source": [
    "a = 100\n",
    "print(a)"
   ]
  },
  {
   "cell_type": "code",
   "execution_count": 2,
   "metadata": {},
   "outputs": [
    {
     "name": "stdout",
     "output_type": "stream",
     "text": [
      "age :  24\n",
      "Height :  5.9\n",
      "name:  Madhurnajan\n",
      "isStudent : True\n"
     ]
    }
   ],
   "source": [
    "# Declaring and Assigning values to the variables\n",
    "\n",
    "age = 24\n",
    "height = 5.9\n",
    "name = \"Madhurnajan\"\n",
    "isStudent = True\n",
    "\n",
    "#printing the variables\n",
    "print(\"age : \",age)\n",
    "print(\"Height : \",height)\n",
    "print(\"name: \",name)\n",
    "print(\"isStudent :\",isStudent)"
   ]
  },
  {
   "cell_type": "code",
   "execution_count": 3,
   "metadata": {},
   "outputs": [],
   "source": [
    "## Naming conventions of the variables\n",
    "# 1. The variale name should be descriptive\n",
    "# 2. The variable name must start with a letter or an '_' and contains letters,numbers and underscores\n",
    "# 3. variables name are case sensitive\n",
    "\n",
    "#valid variable names\n",
    "first_name = \"Madhuranjan\"\n",
    "last_name = \"Kumar\"\n",
    "\n",
    "#invalid variable name\n",
    "# 2age = 24\n",
    "# first-name = \"Madhuranjan\"\n",
    "# @name = \"Madhuranjan\""
   ]
  },
  {
   "cell_type": "code",
   "execution_count": 4,
   "metadata": {},
   "outputs": [
    {
     "name": "stdout",
     "output_type": "stream",
     "text": [
      "<class 'str'>\n"
     ]
    }
   ],
   "source": [
    "## Understanding variables type\n",
    "# Python is dynamically type, i.e., type of variable is determined at the runtime\n",
    "age = 25 #int\n",
    "height = 5.9 #float\n",
    "name = \"Madhhu\" # str\n",
    "is_student = True #bool\n",
    "\n",
    "\n",
    "print(type(name))"
   ]
  },
  {
   "cell_type": "code",
   "execution_count": 5,
   "metadata": {},
   "outputs": [
    {
     "data": {
      "text/plain": [
       "float"
      ]
     },
     "execution_count": 5,
     "metadata": {},
     "output_type": "execute_result"
    }
   ],
   "source": [
    "## Type Checking and Conversion\n",
    "type(height)"
   ]
  },
  {
   "cell_type": "code",
   "execution_count": 6,
   "metadata": {},
   "outputs": [
    {
     "name": "stdout",
     "output_type": "stream",
     "text": [
      "<class 'int'>\n",
      "<class 'str'>\n"
     ]
    }
   ],
   "source": [
    "age = 25\n",
    "print(type(age))\n",
    "\n",
    "#Type Conversion\n",
    "age_str = str(age)\n",
    "print(type(age_str))"
   ]
  },
  {
   "cell_type": "code",
   "execution_count": 7,
   "metadata": {},
   "outputs": [
    {
     "data": {
      "text/plain": [
       "24"
      ]
     },
     "execution_count": 7,
     "metadata": {},
     "output_type": "execute_result"
    }
   ],
   "source": [
    "age = '24'\n",
    "int(age)"
   ]
  },
  {
   "cell_type": "code",
   "execution_count": 8,
   "metadata": {},
   "outputs": [
    {
     "ename": "ValueError",
     "evalue": "invalid literal for int() with base 10: 'Madhu'",
     "output_type": "error",
     "traceback": [
      "\u001b[0;31m---------------------------------------------------------------------------\u001b[0m",
      "\u001b[0;31mValueError\u001b[0m                                Traceback (most recent call last)",
      "Cell \u001b[0;32mIn[8], line 2\u001b[0m\n\u001b[1;32m      1\u001b[0m name \u001b[38;5;241m=\u001b[39m \u001b[38;5;124m\"\u001b[39m\u001b[38;5;124mMadhu\u001b[39m\u001b[38;5;124m\"\u001b[39m\n\u001b[0;32m----> 2\u001b[0m \u001b[38;5;28;43mint\u001b[39;49m\u001b[43m(\u001b[49m\u001b[43mname\u001b[49m\u001b[43m)\u001b[49m\n",
      "\u001b[0;31mValueError\u001b[0m: invalid literal for int() with base 10: 'Madhu'"
     ]
    }
   ],
   "source": [
    "name = \"Madhu\"\n",
    "int(name)"
   ]
  },
  {
   "cell_type": "code",
   "execution_count": 9,
   "metadata": {},
   "outputs": [
    {
     "name": "stdout",
     "output_type": "stream",
     "text": [
      "<class 'float'>\n"
     ]
    }
   ],
   "source": [
    "height = 5.11\n",
    "print(type(height))"
   ]
  },
  {
   "cell_type": "code",
   "execution_count": 10,
   "metadata": {},
   "outputs": [
    {
     "data": {
      "text/plain": [
       "5"
      ]
     },
     "execution_count": 10,
     "metadata": {},
     "output_type": "execute_result"
    }
   ],
   "source": [
    "int(height)"
   ]
  },
  {
   "cell_type": "code",
   "execution_count": 13,
   "metadata": {},
   "outputs": [
    {
     "name": "stdout",
     "output_type": "stream",
     "text": [
      "23 <class 'str'>\n"
     ]
    }
   ],
   "source": [
    "## Input\n",
    "age = input(\"What is the age? \")\n",
    "print(age,type(age))"
   ]
  },
  {
   "cell_type": "code",
   "execution_count": 14,
   "metadata": {},
   "outputs": [
    {
     "name": "stdout",
     "output_type": "stream",
     "text": [
      "23 <class 'int'>\n"
     ]
    }
   ],
   "source": [
    "## Input\n",
    "age = int(input(\"What is the age? \"))\n",
    "print(age,type(age))"
   ]
  },
  {
   "cell_type": "code",
   "execution_count": 15,
   "metadata": {},
   "outputs": [
    {
     "name": "stdout",
     "output_type": "stream",
     "text": [
      "sum :  25.0\n",
      "Difference :  15.0\n",
      "Produt :  100.0\n",
      "quotient :  4.0\n"
     ]
    }
   ],
   "source": [
    "## Simple Calculator\n",
    "num1 = float(input(\"Enter first Number: \"))\n",
    "num2 = float(input(\"Enter Second Number: \"))\n",
    "\n",
    "sum = num1 + num2\n",
    "difference = num1 - num2\n",
    "product = num1*num2\n",
    "quotient = num1 / num2\n",
    "\n",
    "print(\"sum : \",sum)\n",
    "print(\"Difference : \",difference)\n",
    "print(\"Produt : \",product)\n",
    "print(\"quotient : \",quotient)"
   ]
  },
  {
   "cell_type": "code",
   "execution_count": null,
   "metadata": {},
   "outputs": [],
   "source": []
  }
 ],
 "metadata": {
  "kernelspec": {
   "display_name": ".venv",
   "language": "python",
   "name": "python3"
  },
  "language_info": {
   "codemirror_mode": {
    "name": "ipython",
    "version": 3
   },
   "file_extension": ".py",
   "mimetype": "text/x-python",
   "name": "python",
   "nbconvert_exporter": "python",
   "pygments_lexer": "ipython3",
   "version": "3.10.12"
  }
 },
 "nbformat": 4,
 "nbformat_minor": 2
}
