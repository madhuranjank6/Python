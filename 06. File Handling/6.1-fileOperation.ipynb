{
 "cells": [
  {
   "cell_type": "markdown",
   "metadata": {},
   "source": [
    "## File Operation - Read and Write Files\n",
    "\n",
    "File handling is a rucial part of any programming language. Python provides built-in functions and methods to read from and write to files, both text and binary. This lesson will cover the basics of file handling, including reading and writing text files and binary files."
   ]
  },
  {
   "cell_type": "code",
   "execution_count": 1,
   "metadata": {},
   "outputs": [
    {
     "name": "stdout",
     "output_type": "stream",
     "text": [
      "This is a sample file created to understand the concepts of file handling in python.\n",
      "\n",
      "This is Madhuranjan Workspace\n",
      "How are You?\n"
     ]
    }
   ],
   "source": [
    "### Read a Whole file\n",
    "\n",
    "with open('example.txt','r') as f:\n",
    "    content = f.read()\n",
    "    print(content)"
   ]
  },
  {
   "cell_type": "code",
   "execution_count": 3,
   "metadata": {},
   "outputs": [
    {
     "name": "stdout",
     "output_type": "stream",
     "text": [
      "This is a sample file created to understand the concepts of file handling in python.\n",
      "\n",
      "This is Madhuranjan Workspace\n",
      "How are You?\n"
     ]
    }
   ],
   "source": [
    "### reading the file line by line\n",
    "with open('example.txt','r') as f:\n",
    "    for line in f:\n",
    "        print(line.strip()) ## strip() removes the newline character"
   ]
  },
  {
   "cell_type": "code",
   "execution_count": 8,
   "metadata": {},
   "outputs": [],
   "source": [
    "### Wrting in a file (Overwriting)\n",
    "\n",
    "with open('example.txt','w') as f:\n",
    "    f.write('Hello World\\n')\n",
    "    f.write('This is a new line.\\n')"
   ]
  },
  {
   "cell_type": "code",
   "execution_count": 9,
   "metadata": {},
   "outputs": [],
   "source": [
    "### Writing in a file (without Overwriting)\n",
    "with open('example.txt','a') as f:\n",
    "    f.write(\"Append Operation taking place\\n\")\n",
    "    f.write(\"Append Operation successfull\\n\")"
   ]
  },
  {
   "cell_type": "code",
   "execution_count": 10,
   "metadata": {},
   "outputs": [],
   "source": [
    "### Writing list of line to a files\n",
    "\n",
    "lines = ['first line\\n','second line\\n','fourth line\\n']\n",
    "\n",
    "with open('example.txt','a') as f:\n",
    "    f.writelines(lines)"
   ]
  },
  {
   "cell_type": "code",
   "execution_count": 11,
   "metadata": {},
   "outputs": [],
   "source": [
    "### Working with Binary files\n",
    "\n",
    "## Writing to a binary file\n",
    "\n",
    "data = b'\\x00\\x01\\x02\\x03\\x04'\n",
    "with open('example.bin','wb') as file:\n",
    "    file.write(data)\n"
   ]
  },
  {
   "cell_type": "code",
   "execution_count": 12,
   "metadata": {},
   "outputs": [
    {
     "name": "stdout",
     "output_type": "stream",
     "text": [
      "b'\\x00\\x01\\x02\\x03\\x04'\n"
     ]
    }
   ],
   "source": [
    "## Reading the binary file\n",
    "\n",
    "with open('example.bin','rb') as f:\n",
    "    content = f.read()\n",
    "    print(content)"
   ]
  },
  {
   "cell_type": "code",
   "execution_count": 13,
   "metadata": {},
   "outputs": [],
   "source": [
    "### Read the content from  a source text file and write it to a destination text file\n",
    "\n",
    "#Reading from the text file\n",
    "with open('example.txt','r') as f:\n",
    "    content = f.read()\n",
    "\n",
    "## Writing to the destination file\n",
    "with open('destination.txt','w') as f:\n",
    "    f.write(content)\n"
   ]
  },
  {
   "cell_type": "code",
   "execution_count": 16,
   "metadata": {},
   "outputs": [
    {
     "name": "stdout",
     "output_type": "stream",
     "text": [
      "lines: 7, Words: 20, Characters: 126\n"
     ]
    }
   ],
   "source": [
    "## Read a text file and count the number of lines, words, and characters\n",
    "\n",
    "def count_text_file(file_path):\n",
    "    with open(file_path,'r') as f:\n",
    "        lines = f.readlines()\n",
    "        line_count = len(lines)\n",
    "        words_count = sum(len(line.split()) for line in lines)\n",
    "        char_count = sum(len(line) for line in lines)\n",
    "    return line_count,words_count,char_count\n",
    "\n",
    "file_path = 'example.txt'\n",
    "lines,words,chars = count_text_file(file_path)\n",
    "print(f\"lines: {lines}, Words: {words}, Characters: {chars}\")"
   ]
  },
  {
   "cell_type": "code",
   "execution_count": 20,
   "metadata": {},
   "outputs": [
    {
     "name": "stdout",
     "output_type": "stream",
     "text": [
      "Hey Hello World\n",
      "This is a new line\n",
      "\n"
     ]
    }
   ],
   "source": [
    "### Writing and then reading the files\n",
    "with open('example1.txt','w+') as f:\n",
    "    f.write(\"Hey Hello World\\n\")\n",
    "    f.write(\"This is a new line\\n\")\n",
    "\n",
    "    ## Move the file cursor to the begining\n",
    "    f.seek(0)\n",
    "\n",
    "    ## Read the content of the file\n",
    "    content = f.read()\n",
    "    print(content)"
   ]
  }
 ],
 "metadata": {
  "kernelspec": {
   "display_name": ".venv",
   "language": "python",
   "name": "python3"
  },
  "language_info": {
   "codemirror_mode": {
    "name": "ipython",
    "version": 3
   },
   "file_extension": ".py",
   "mimetype": "text/x-python",
   "name": "python",
   "nbconvert_exporter": "python",
   "pygments_lexer": "ipython3",
   "version": "3.10.12"
  }
 },
 "nbformat": 4,
 "nbformat_minor": 2
}
