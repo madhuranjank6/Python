{
 "cells": [
  {
   "cell_type": "code",
   "execution_count": 1,
   "metadata": {},
   "outputs": [
    {
     "name": "stdout",
     "output_type": "stream",
     "text": [
      "/home/madhuranjan_kumar/Desktop/Krish_Naik_Udemy/Machine_Learning_NLP_Bootcamp/Python/6. File Handling\n"
     ]
    }
   ],
   "source": [
    "import os\n",
    "\n",
    "cwd = os.getcwd()\n",
    "print(cwd)"
   ]
  },
  {
   "cell_type": "code",
   "execution_count": 2,
   "metadata": {},
   "outputs": [
    {
     "name": "stdout",
     "output_type": "stream",
     "text": [
      "Directory 'package' is Created.\n"
     ]
    }
   ],
   "source": [
    "## Creating the new Diretory\n",
    "\n",
    "new_directory = \"package\"\n",
    "\n",
    "os.makedirs(new_directory)\n",
    "\n",
    "print(f\"Directory '{new_directory}' is Created.\")"
   ]
  },
  {
   "cell_type": "code",
   "execution_count": 3,
   "metadata": {},
   "outputs": [
    {
     "name": "stdout",
     "output_type": "stream",
     "text": [
      "['6.2-filepaths.ipynb', 'example.txt', 'package', 'example.bin', '6.1-fileOperation.ipynb', 'destination.txt', 'example1.txt']\n"
     ]
    }
   ],
   "source": [
    "## Listing all the files and directories inside a directory\n",
    "\n",
    "items = os.listdir('.')\n",
    "print(items)"
   ]
  },
  {
   "cell_type": "code",
   "execution_count": 4,
   "metadata": {},
   "outputs": [
    {
     "name": "stdout",
     "output_type": "stream",
     "text": [
      "folder/file.txt\n"
     ]
    }
   ],
   "source": [
    "### Joining Paths\n",
    "dir_name = 'folder'\n",
    "file_name = 'file.txt'\n",
    "\n",
    "full_path = os.path.join(dir_name,file_name)\n",
    "print(full_path)"
   ]
  },
  {
   "cell_type": "code",
   "execution_count": 5,
   "metadata": {},
   "outputs": [
    {
     "name": "stdout",
     "output_type": "stream",
     "text": [
      "/home/madhuranjan_kumar/Desktop/Krish_Naik_Udemy/Machine_Learning_NLP_Bootcamp/Python/6. File Handling/folder/file.txt\n"
     ]
    }
   ],
   "source": [
    "### Joining Paths\n",
    "dir_name = 'folder'\n",
    "file_name = 'file.txt'\n",
    "\n",
    "full_path = os.path.join(os.getcwd(),dir_name,file_name)\n",
    "print(full_path)"
   ]
  },
  {
   "cell_type": "code",
   "execution_count": 6,
   "metadata": {},
   "outputs": [
    {
     "name": "stdout",
     "output_type": "stream",
     "text": [
      "Path Exists\n"
     ]
    }
   ],
   "source": [
    "## Checking if the file exists or not\n",
    "path = 'example.txt'\n",
    "if os.path.exists(path):\n",
    "    print(\"Path Exists\")\n",
    "else:\n",
    "    print(\"Path does not Exists\")"
   ]
  },
  {
   "cell_type": "code",
   "execution_count": 9,
   "metadata": {},
   "outputs": [
    {
     "name": "stdout",
     "output_type": "stream",
     "text": [
      "example.txt is a File\n"
     ]
    }
   ],
   "source": [
    "## Chcking is path is file or Directory\n",
    "path = \"example.txt\"\n",
    "if os.path.isfile(path):\n",
    "    print(f\"{path} is a File\")\n",
    "elif os.path.isdir(path):\n",
    "    print(f'{path} is a Directory')\n",
    "else:\n",
    "    print(f\"{path} is not a File nor any Directory\")"
   ]
  },
  {
   "cell_type": "code",
   "execution_count": 10,
   "metadata": {},
   "outputs": [
    {
     "name": "stdout",
     "output_type": "stream",
     "text": [
      "/home/madhuranjan_kumar/Desktop/Krish_Naik_Udemy/Machine_Learning_NLP_Bootcamp/Python/6. File Handling/example.txt\n"
     ]
    }
   ],
   "source": [
    "## Getting the absolute path\n",
    "relative_path = 'example.txt'\n",
    "\n",
    "abs_path = os.path.abspath(relative_path)\n",
    "print(abs_path)"
   ]
  }
 ],
 "metadata": {
  "kernelspec": {
   "display_name": ".venv",
   "language": "python",
   "name": "python3"
  },
  "language_info": {
   "codemirror_mode": {
    "name": "ipython",
    "version": 3
   },
   "file_extension": ".py",
   "mimetype": "text/x-python",
   "name": "python",
   "nbconvert_exporter": "python",
   "pygments_lexer": "ipython3",
   "version": "3.10.12"
  }
 },
 "nbformat": 4,
 "nbformat_minor": 2
}
