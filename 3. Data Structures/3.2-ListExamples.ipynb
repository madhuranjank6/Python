{
 "cells": [
  {
   "cell_type": "markdown",
   "metadata": {},
   "source": [
    "### Real-World Examples using Lists in Python\n",
    "Lists are one of the most commonly used data structures in python, Thanks to their versatility and ease of use. Here are several practical exmaples that illustrate their use-case in real-world scenarios.\n",
    "\n",
    "#### Example 1. Manage A To Do List\n",
    "\n",
    "* Create a To Do List To Keep Track of Tasks"
   ]
  },
  {
   "cell_type": "code",
   "execution_count": 3,
   "metadata": {},
   "outputs": [
    {
     "name": "stdout",
     "output_type": "stream",
     "text": [
      "Don't forgert to pay the utility bills\n",
      "To Do List Remaining:\n",
      "- Buy Groceries\n",
      "- Pay Bills\n",
      "- Schedule Metting\n",
      "- Go for a Walk\n"
     ]
    }
   ],
   "source": [
    "to_do_list = [\"Buy Groceries\",\"Clean the House\",\"Pay Bills\"]\n",
    "\n",
    "#Adding to task\n",
    "to_do_list.append(\"Schedule Metting\")\n",
    "to_do_list.append(\"Go for a Walk\")\n",
    "\n",
    "## Removing a completed task\n",
    "to_do_list.remove(\"Clean the House\")\n",
    "\n",
    "## Checking if a task is in the list\n",
    "if \"Pay Bills\" in to_do_list:\n",
    "    print(\"Don't forgert to pay the utility bills\")\n",
    "\n",
    "print(\"To Do List Remaining:\")\n",
    "for task in to_do_list:\n",
    "    print(f'- {task}')"
   ]
  },
  {
   "cell_type": "markdown",
   "metadata": {},
   "source": [
    "### Example 2. Organizing Student Grades\n",
    "* Create a list to store and calculate the average grade for students"
   ]
  },
  {
   "cell_type": "code",
   "execution_count": 4,
   "metadata": {},
   "outputs": [
    {
     "name": "stdout",
     "output_type": "stream",
     "text": [
      "Average grade: 88.0\n",
      "Highest Grade: 95\n",
      "Lowest Grade: 78\n"
     ]
    }
   ],
   "source": [
    "grades = [85,92,78,90,88]\n",
    "\n",
    "#Addign a new grade\n",
    "grades.append(95)\n",
    "\n",
    "# calculating the average grade\n",
    "average_grade = sum(grades)/len(grades)\n",
    "print(f\"Average grade: {average_grade}\")\n",
    "\n",
    "\n",
    "# Finding the highest and lowest grade\n",
    "highest_grade = max(grades)\n",
    "lowest_grade = min(grades)\n",
    "\n",
    "print(f\"Highest Grade: {highest_grade}\")\n",
    "print(f\"Lowest Grade: {lowest_grade}\")"
   ]
  },
  {
   "cell_type": "markdown",
   "metadata": {},
   "source": [
    "### Example 3. Managing an Inventory\n",
    "* Use a list to manage inventory items in a store"
   ]
  },
  {
   "cell_type": "code",
   "execution_count": 5,
   "metadata": {},
   "outputs": [
    {
     "name": "stdout",
     "output_type": "stream",
     "text": [
      "oranges are in stock\n",
      "Inventory List: \n",
      "- apples\n",
      "- oranges\n",
      "- grapes\n",
      "- Strawberry\n"
     ]
    }
   ],
   "source": [
    "inventory = [\"apples\",\"bananas\",\"oranges\",\"grapes\"]\n",
    "\n",
    "#Addign a new item\n",
    "\n",
    "inventory.append(\"Strawberry\")\n",
    "\n",
    "#Removing an item that is out of scope\n",
    "inventory.remove(\"bananas\")\n",
    "\n",
    "\n",
    "#Checking if an item is in stock\n",
    "item = \"oranges\"\n",
    "\n",
    "if item in inventory:\n",
    "    print(f\"{item} are in stock\")\n",
    "else:\n",
    "    print(f\"{item} are not in stock\")\n",
    "\n",
    "#printing the inventory list\n",
    "print(\"Inventory List: \")\n",
    "for item in inventory:\n",
    "    print(f\"- {item}\")"
   ]
  },
  {
   "cell_type": "code",
   "execution_count": null,
   "metadata": {},
   "outputs": [],
   "source": []
  }
 ],
 "metadata": {
  "kernelspec": {
   "display_name": ".venv",
   "language": "python",
   "name": "python3"
  },
  "language_info": {
   "codemirror_mode": {
    "name": "ipython",
    "version": 3
   },
   "file_extension": ".py",
   "mimetype": "text/x-python",
   "name": "python",
   "nbconvert_exporter": "python",
   "pygments_lexer": "ipython3",
   "version": "3.10.12"
  }
 },
 "nbformat": 4,
 "nbformat_minor": 2
}
