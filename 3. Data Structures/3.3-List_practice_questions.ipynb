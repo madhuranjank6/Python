{
 "cells": [
  {
   "cell_type": "markdown",
   "id": "5b101fce",
   "metadata": {},
   "source": [
    "## Lesson 3.1: Lists\n",
    "### Assignment 1: Creating and Accessing Lists\n",
    "\n",
    "Create a list of the first 20 positive integers. Print the list."
   ]
  },
  {
   "cell_type": "code",
   "execution_count": 1,
   "id": "491e070b",
   "metadata": {},
   "outputs": [
    {
     "name": "stdout",
     "output_type": "stream",
     "text": [
      "[1, 2, 3, 4, 5, 6, 7, 8, 9, 10, 11, 12, 13, 14, 15, 16, 17, 18, 19, 20]\n"
     ]
    }
   ],
   "source": [
    "lst = []\n",
    "for i in range(1,21):\n",
    "    lst.append(i)\n",
    "\n",
    "print(lst)"
   ]
  },
  {
   "cell_type": "markdown",
   "id": "4a5562c7",
   "metadata": {},
   "source": [
    "### Assignment 2: Accessing List Elements\n",
    "\n",
    "Print the first, middle, and last elements of the list created in Assignment 1."
   ]
  },
  {
   "cell_type": "code",
   "execution_count": 2,
   "id": "13c8a9ec",
   "metadata": {},
   "outputs": [
    {
     "name": "stdout",
     "output_type": "stream",
     "text": [
      "First element: 1\n",
      "Middle Element: 11\n",
      "Last Element: 20\n"
     ]
    }
   ],
   "source": [
    "first_element = lst[0]\n",
    "middle_element = lst[len(lst)//2]\n",
    "last_element = lst[-1]\n",
    "\n",
    "\n",
    "print(f\"First element: {first_element}\")\n",
    "print(f\"Middle Element: {middle_element}\")\n",
    "print(f\"Last Element: {last_element}\")"
   ]
  },
  {
   "cell_type": "markdown",
   "id": "e5ce8377",
   "metadata": {},
   "source": [
    "### Assignment 3: List Slicing\n",
    "\n",
    "Print the first five elements, the last five elements, and the elements from index 5 to 15 of the list created in Assignment 1."
   ]
  },
  {
   "cell_type": "code",
   "execution_count": 3,
   "id": "bc674dca",
   "metadata": {},
   "outputs": [
    {
     "name": "stdout",
     "output_type": "stream",
     "text": [
      "First 5 Elements of the list are: [1, 2, 3, 4, 5]\n",
      "Last 5 elements of the list are: [16, 17, 18, 19, 20]\n",
      "Elements from the index 5 t0 15 are: [6, 7, 8, 9, 10, 11, 12, 13, 14, 15, 16]\n"
     ]
    }
   ],
   "source": [
    "print(f\"First 5 Elements of the list are: {lst[:5]}\")\n",
    "print(f\"Last 5 elements of the list are: {lst[-5:]}\")\n",
    "print(f\"Elements from the index 5 t0 15 are: {lst[5:16]}\")"
   ]
  },
  {
   "cell_type": "markdown",
   "id": "d9932a17",
   "metadata": {},
   "source": [
    "### Assignment 4: List Comprehensions\n",
    "\n",
    "Create a new list containing the squares of the first 10 positive integers using a list comprehension. Print the new list."
   ]
  },
  {
   "cell_type": "code",
   "execution_count": 4,
   "id": "ead632d4",
   "metadata": {},
   "outputs": [
    {
     "name": "stdout",
     "output_type": "stream",
     "text": [
      "[1, 4, 9, 16, 25, 36, 49, 64, 81, 100]\n"
     ]
    }
   ],
   "source": [
    "squared_list = [i**2 for i in range(1,11)]\n",
    "print(squared_list)"
   ]
  },
  {
   "cell_type": "markdown",
   "id": "0bcdf0f8",
   "metadata": {},
   "source": [
    "### Assignment 5: Filtering Lists\n",
    "\n",
    "Create a new list containing only the even numbers from the list created in Assignment 1 using a list comprehension. Print the new list."
   ]
  },
  {
   "cell_type": "code",
   "execution_count": 5,
   "id": "8ed161fe",
   "metadata": {},
   "outputs": [
    {
     "name": "stdout",
     "output_type": "stream",
     "text": [
      "[2, 4, 6, 8, 10, 12, 14, 16, 18, 20]\n"
     ]
    }
   ],
   "source": [
    "even_nums_list = [i for i in lst if i%2==0]\n",
    "print(even_nums_list)"
   ]
  },
  {
   "cell_type": "markdown",
   "id": "612dbce0",
   "metadata": {},
   "source": [
    "### Assignment 6: List Methods\n",
    "\n",
    "Create a list of random numbers and sort it in ascending and descending order. Remove the duplicates from the list and print the modified list."
   ]
  },
  {
   "cell_type": "code",
   "execution_count": 8,
   "id": "f5a9fb31",
   "metadata": {},
   "outputs": [
    {
     "name": "stdout",
     "output_type": "stream",
     "text": [
      "Random Generated List: [20, 98, 55, 93, 39, 31, 77, 44, 13, 71]\n",
      "Sorted in Ascending Order: [13, 20, 31, 39, 44, 55, 71, 77, 93, 98]\n",
      "Sorted in Descending Order: [98, 93, 77, 71, 55, 44, 39, 31, 20, 13]\n",
      "Unique List: [98, 93, 77, 71, 55, 44, 39, 31, 20, 13]\n"
     ]
    }
   ],
   "source": [
    "import random\n",
    "random_list = [random.randint(1,100) for i in range(10)]\n",
    "print(f\"Random Generated List: {random_list}\")\n",
    "\n",
    "#sorting in ascending order\n",
    "random_list.sort()\n",
    "print(f\"Sorted in Ascending Order: {random_list}\")\n",
    "\n",
    "\n",
    "## Sorting in descending order\n",
    "random_list.sort(reverse=True)\n",
    "print(f\"Sorted in Descending Order: {random_list}\")\n",
    "unique_list = []\n",
    "unique_list = [i for i in random_list if i not in unique_list]\n",
    "print(f\"Unique List: {unique_list}\")"
   ]
  },
  {
   "cell_type": "markdown",
   "id": "7edd7645",
   "metadata": {},
   "source": [
    "### Assignment 7: Nested Lists\n",
    "\n",
    "Create a nested list representing a 3x3 matrix and print the matrix. Access and print the element at the second row and third column."
   ]
  },
  {
   "cell_type": "code",
   "execution_count": 11,
   "id": "9ca376f3",
   "metadata": {},
   "outputs": [
    {
     "name": "stdout",
     "output_type": "stream",
     "text": [
      "[[1, 2, 3], [4, 5, 6], [7, 8, 9]]\n",
      "6\n"
     ]
    }
   ],
   "source": [
    "matrix = [\n",
    "    [1,2,3],\n",
    "    [4,5,6],\n",
    "    [7,8,9]\n",
    "]\n",
    "\n",
    "print(matrix)\n",
    "\n",
    "\n",
    "## Element at the second row and third column\n",
    "print(matrix[1][2])"
   ]
  },
  {
   "cell_type": "markdown",
   "id": "e06e0162",
   "metadata": {},
   "source": [
    "### Assignment 8: List of Dictionaries\n",
    "\n",
    "Create a list of dictionaries where each dictionary represents a student with keys 'name' and 'score'. Sort the list of dictionaries by the 'score' in descending order and print the sorted list."
   ]
  },
  {
   "cell_type": "code",
   "execution_count": 12,
   "id": "791c4882",
   "metadata": {},
   "outputs": [
    {
     "name": "stdout",
     "output_type": "stream",
     "text": [
      "{'name': 'Bob', 'score': 92}\n",
      "{'name': 'David', 'score': 90}\n",
      "{'name': 'Eve', 'score': 88}\n",
      "{'name': 'Alice', 'score': 85}\n",
      "{'name': 'Charlie', 'score': 78}\n"
     ]
    }
   ],
   "source": [
    "# List of dictionaries representing students with their scores\n",
    "students = [\n",
    "    {'name': 'Alice', 'score': 85},\n",
    "    {'name': 'Bob', 'score': 92},\n",
    "    {'name': 'Charlie', 'score': 78},\n",
    "    {'name': 'David', 'score': 90},\n",
    "    {'name': 'Eve', 'score': 88}\n",
    "]\n",
    "\n",
    "# Sort the list of dictionaries by the 'score' in descending order\n",
    "sorted_students = sorted(students, key=lambda x: x['score'], reverse=True)\n",
    "\n",
    "# Print the sorted list\n",
    "for student in sorted_students:\n",
    "    print(student)\n"
   ]
  }
 ],
 "metadata": {
  "kernelspec": {
   "display_name": "Python 3",
   "language": "python",
   "name": "python3"
  },
  "language_info": {
   "codemirror_mode": {
    "name": "ipython",
    "version": 3
   },
   "file_extension": ".py",
   "mimetype": "text/x-python",
   "name": "python",
   "nbconvert_exporter": "python",
   "pygments_lexer": "ipython3",
   "version": "3.10.12"
  }
 },
 "nbformat": 4,
 "nbformat_minor": 5
}
